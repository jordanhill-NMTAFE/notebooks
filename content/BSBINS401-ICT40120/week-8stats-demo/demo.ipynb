{
 "cells": [
  {
   "cell_type": "markdown",
   "id": "52af86d6",
   "metadata": {},
   "source": [
    "Below is a succinct example you could demonstrate in class or include in a Jupyter Notebook to illustrate a few advanced statistical methods. It covers:  \n",
    "• Generating a synthetic dataset  \n",
    "• Performing exploratory correlation analysis  \n",
    "• Conducting a t-test and an ANOVA  \n",
    "• Running a simple linear regression with Statsmodels  \n",
    "\n",
    "You can adapt and expand on this foundation to show more complex techniques such as multiple regression, logistic regression, or PCA.\n",
    "\n",
    "--------------------------------------------------------------------------------\n",
    "# Advanced Statistical Methods: Companion Demo"
   ]
  },
  {
   "cell_type": "code",
   "execution_count": 5,
   "id": "1ef6254a",
   "metadata": {},
   "outputs": [
    {
     "name": "stdout",
     "output_type": "stream",
     "text": [
      "Head of the DataFrame:\n"
     ]
    },
    {
     "data": {
      "text/html": [
       "<div>\n",
       "<style scoped>\n",
       "    .dataframe tbody tr th:only-of-type {\n",
       "        vertical-align: middle;\n",
       "    }\n",
       "\n",
       "    .dataframe tbody tr th {\n",
       "        vertical-align: top;\n",
       "    }\n",
       "\n",
       "    .dataframe thead th {\n",
       "        text-align: right;\n",
       "    }\n",
       "</style>\n",
       "<table border=\"1\" class=\"dataframe\">\n",
       "  <thead>\n",
       "    <tr style=\"text-align: right;\">\n",
       "      <th></th>\n",
       "      <th>age</th>\n",
       "      <th>education_years</th>\n",
       "      <th>salary</th>\n",
       "      <th>performance_score</th>\n",
       "      <th>region</th>\n",
       "    </tr>\n",
       "  </thead>\n",
       "  <tbody>\n",
       "    <tr>\n",
       "      <th>0</th>\n",
       "      <td>58</td>\n",
       "      <td>14</td>\n",
       "      <td>68309.076007</td>\n",
       "      <td>34396.025921</td>\n",
       "      <td>East</td>\n",
       "    </tr>\n",
       "    <tr>\n",
       "      <th>1</th>\n",
       "      <td>48</td>\n",
       "      <td>16</td>\n",
       "      <td>59904.778077</td>\n",
       "      <td>31101.588822</td>\n",
       "      <td>South</td>\n",
       "    </tr>\n",
       "    <tr>\n",
       "      <th>2</th>\n",
       "      <td>34</td>\n",
       "      <td>14</td>\n",
       "      <td>34053.050134</td>\n",
       "      <td>20523.136087</td>\n",
       "      <td>East</td>\n",
       "    </tr>\n",
       "    <tr>\n",
       "      <th>3</th>\n",
       "      <td>27</td>\n",
       "      <td>12</td>\n",
       "      <td>27304.636073</td>\n",
       "      <td>10023.380287</td>\n",
       "      <td>East</td>\n",
       "    </tr>\n",
       "    <tr>\n",
       "      <th>4</th>\n",
       "      <td>40</td>\n",
       "      <td>14</td>\n",
       "      <td>48635.061197</td>\n",
       "      <td>27679.171217</td>\n",
       "      <td>North</td>\n",
       "    </tr>\n",
       "  </tbody>\n",
       "</table>\n",
       "</div>"
      ],
      "text/plain": [
       "   age  education_years        salary  performance_score region\n",
       "0   58               14  68309.076007       34396.025921   East\n",
       "1   48               16  59904.778077       31101.588822  South\n",
       "2   34               14  34053.050134       20523.136087   East\n",
       "3   27               12  27304.636073       10023.380287   East\n",
       "4   40               14  48635.061197       27679.171217  North"
      ]
     },
     "metadata": {},
     "output_type": "display_data"
    }
   ],
   "source": [
    "# Jupyter Notebook / Python Demo\n",
    "\n",
    "import numpy as np\n",
    "import pandas as pd\n",
    "import seaborn as sns\n",
    "import matplotlib.pyplot as plt\n",
    "\n",
    "# For statistical tests\n",
    "from scipy.stats import ttest_ind, f_oneway\n",
    "\n",
    "# For regression with Statsmodels\n",
    "import statsmodels.api as sm\n",
    "import statsmodels.formula.api as smf\n",
    "\n",
    "# 1. Generate a Synthetic Dataset\n",
    "\n",
    "np.random.seed(42)\n",
    "num_samples = 150\n",
    "\n",
    "# Let's create some variables that have interesting relationships\n",
    "age = np.random.randint(20, 60, num_samples)        # Age between 20 and 60\n",
    "salary = age * 1200 + np.random.normal(0, 5000, num_samples)  # Salary depends on age + noise\n",
    "education_years = np.random.choice([12, 14, 16, 18], size=num_samples)  # Discrete levels\n",
    "performance_score = 0.5 * salary + 10 * education_years + np.random.normal(0, 2000, num_samples)\n",
    "\n",
    "# Create a 'Region' categorical variable (to show group-based comparisons)\n",
    "region = np.random.choice(['North', 'South', 'East'], size=num_samples, p=[0.4, 0.3, 0.3])\n",
    "\n",
    "# Combine into a DataFrame\n",
    "df = pd.DataFrame({\n",
    "    'age': age,\n",
    "    'education_years': education_years,\n",
    "    'salary': salary,\n",
    "    'performance_score': performance_score,\n",
    "    'region': region\n",
    "})\n",
    "\n",
    "# Quick peek\n",
    "print(\"Head of the DataFrame:\")\n",
    "display(df.head())\n"
   ]
  },
  {
   "cell_type": "code",
   "execution_count": 6,
   "id": "2c2855e7",
   "metadata": {},
   "outputs": [
    {
     "name": "stdout",
     "output_type": "stream",
     "text": [
      "\n",
      "Correlation Matrix:\n"
     ]
    },
    {
     "data": {
      "text/html": [
       "<div>\n",
       "<style scoped>\n",
       "    .dataframe tbody tr th:only-of-type {\n",
       "        vertical-align: middle;\n",
       "    }\n",
       "\n",
       "    .dataframe tbody tr th {\n",
       "        vertical-align: top;\n",
       "    }\n",
       "\n",
       "    .dataframe thead th {\n",
       "        text-align: right;\n",
       "    }\n",
       "</style>\n",
       "<table border=\"1\" class=\"dataframe\">\n",
       "  <thead>\n",
       "    <tr style=\"text-align: right;\">\n",
       "      <th></th>\n",
       "      <th>age</th>\n",
       "      <th>education_years</th>\n",
       "      <th>salary</th>\n",
       "      <th>performance_score</th>\n",
       "    </tr>\n",
       "  </thead>\n",
       "  <tbody>\n",
       "    <tr>\n",
       "      <th>age</th>\n",
       "      <td>1.000000</td>\n",
       "      <td>-0.119020</td>\n",
       "      <td>0.934948</td>\n",
       "      <td>0.915484</td>\n",
       "    </tr>\n",
       "    <tr>\n",
       "      <th>education_years</th>\n",
       "      <td>-0.119020</td>\n",
       "      <td>1.000000</td>\n",
       "      <td>-0.090417</td>\n",
       "      <td>-0.104199</td>\n",
       "    </tr>\n",
       "    <tr>\n",
       "      <th>salary</th>\n",
       "      <td>0.934948</td>\n",
       "      <td>-0.090417</td>\n",
       "      <td>1.000000</td>\n",
       "      <td>0.958510</td>\n",
       "    </tr>\n",
       "    <tr>\n",
       "      <th>performance_score</th>\n",
       "      <td>0.915484</td>\n",
       "      <td>-0.104199</td>\n",
       "      <td>0.958510</td>\n",
       "      <td>1.000000</td>\n",
       "    </tr>\n",
       "  </tbody>\n",
       "</table>\n",
       "</div>"
      ],
      "text/plain": [
       "                        age  education_years    salary  performance_score\n",
       "age                1.000000        -0.119020  0.934948           0.915484\n",
       "education_years   -0.119020         1.000000 -0.090417          -0.104199\n",
       "salary             0.934948        -0.090417  1.000000           0.958510\n",
       "performance_score  0.915484        -0.104199  0.958510           1.000000"
      ]
     },
     "metadata": {},
     "output_type": "display_data"
    },
    {
     "data": {
      "image/png": "[encoded data removed]",
      "text/plain": [
       "<Figure size 600x500 with 2 Axes>"
      ]
     },
     "metadata": {},
     "output_type": "display_data"
    }
   ],
   "source": [
    "\n",
    "# 2. Exploratory Analysis & Correlation Matrix\n",
    "\n",
    "corr_matrix = df[['age','education_years','salary','performance_score']].corr()\n",
    "print(\"\\nCorrelation Matrix:\")\n",
    "display(corr_matrix)\n",
    "\n",
    "plt.figure(figsize=(6, 5))\n",
    "sns.heatmap(corr_matrix, annot=True, cmap='Blues')\n",
    "plt.title('Correlation Heatmap')\n",
    "plt.show()\n"
   ]
  },
  {
   "cell_type": "code",
   "execution_count": 7,
   "id": "4516d5d0",
   "metadata": {},
   "outputs": [
    {
     "name": "stdout",
     "output_type": "stream",
     "text": [
      "\n",
      "T-test: North vs South Salaries\n",
      "T-statistic = -0.717, p-value = 0.475\n"
     ]
    }
   ],
   "source": [
    "\n",
    "# Observations:\n",
    "#  - We might expect 'salary' and 'performance_score' to be somewhat correlated.\n",
    "#  - education_years could also correlate with performance_score.\n",
    "\n",
    "# 3. T-test (Comparing Two Regions on Salary)\n",
    "#    Let's compare the average salary in 'North' vs. 'South' regions.\n",
    "\n",
    "north_salaries = df.loc[df['region'] == 'North', 'salary']\n",
    "south_salaries = df.loc[df['region'] == 'South', 'salary']\n",
    "\n",
    "tstat, pval = ttest_ind(north_salaries, south_salaries, equal_var=False)\n",
    "print(\"\\nT-test: North vs South Salaries\")\n",
    "print(f\"T-statistic = {tstat:0.3f}, p-value = {pval:0.3f}\")\n",
    "\n",
    "# Interpretation:\n",
    "# - If p-value < 0.05: There is a significant difference in salaries between North and South regions\n",
    "# - If p-value >= 0.05: No significant evidence of salary differences between North and South regions\n",
    "\n",
    "# For reference:\n",
    "# - T-statistic measures the standardized difference between group means\n",
    "# - Higher absolute t-value suggests stronger evidence of difference between groups\n",
    "\n"
   ]
  },
  {
   "cell_type": "code",
   "execution_count": 8,
   "id": "b90ed0c3",
   "metadata": {},
   "outputs": [
    {
     "name": "stdout",
     "output_type": "stream",
     "text": [
      "\n",
      "ANOVA on Salary by Region\n",
      "F-statistic = 0.239, p-value = 0.788\n"
     ]
    }
   ],
   "source": [
    "\n",
    "# 4. ANOVA (Comparing Salary Across All Three Regions)\n",
    "\n",
    "north = df.loc[df['region'] == 'North', 'salary']\n",
    "south = df.loc[df['region'] == 'South', 'salary']\n",
    "east  = df.loc[df['region'] == 'East',  'salary']\n",
    "\n",
    "fstat, pval_anova = f_oneway(north, south, east)\n",
    "print(\"\\nANOVA on Salary by Region\")\n",
    "print(f\"F-statistic = {fstat:0.3f}, p-value = {pval_anova:0.3f}\")\n",
    "\n",
    "# Interpretation:\n",
    "# - If p-value < 0.05: There are significant differences in salaries between regions\n",
    "# - If p-value >= 0.05: No significant evidence of salary differences between regions\n",
    "\n",
    "# For reference:\n",
    "# - F-statistic measures the ratio of variance between groups to variance within groups\n",
    "# - Higher F-statistic suggests stronger evidence of differences between groups\n",
    "\n",
    "\n"
   ]
  },
  {
   "cell_type": "code",
   "execution_count": 9,
   "id": "86ee4b51",
   "metadata": {},
   "outputs": [
    {
     "name": "stdout",
     "output_type": "stream",
     "text": [
      "\n",
      "Regression: performance_score ~ salary + education_years\n",
      "                            OLS Regression Results                            \n",
      "==============================================================================\n",
      "Dep. Variable:      performance_score   R-squared:                       0.919\n",
      "Model:                            OLS   Adj. R-squared:                  0.918\n",
      "Method:                 Least Squares   F-statistic:                     834.5\n",
      "Date:                Mon, 24 Mar 2025   Prob (F-statistic):           5.66e-81\n",
      "Time:                        10:11:38   Log-Likelihood:                -1361.7\n",
      "No. Observations:                 150   AIC:                             2729.\n",
      "Df Residuals:                     147   BIC:                             2738.\n",
      "Df Model:                           2                                         \n",
      "Covariance Type:            nonrobust                                         \n",
      "===================================================================================\n",
      "                      coef    std err          t      P>|t|      [0.025      0.975]\n",
      "-----------------------------------------------------------------------------------\n",
      "Intercept        1641.9402   1321.532      1.242      0.216    -969.716    4253.596\n",
      "salary              0.4863      0.012     40.611      0.000       0.463       0.510\n",
      "education_years   -57.3708     76.471     -0.750      0.454    -208.496      93.754\n",
      "==============================================================================\n",
      "Omnibus:                        1.294   Durbin-Watson:                   1.984\n",
      "Prob(Omnibus):                  0.524   Jarque-Bera (JB):                0.902\n",
      "Skew:                          -0.023   Prob(JB):                        0.637\n",
      "Kurtosis:                       3.377   Cond. No.                     3.76e+05\n",
      "==============================================================================\n",
      "\n",
      "Notes:\n",
      "[1] Standard Errors assume that the covariance matrix of the errors is correctly specified.\n",
      "[2] The condition number is large, 3.76e+05. This might indicate that there are\n",
      "strong multicollinearity or other numerical problems.\n"
     ]
    }
   ],
   "source": [
    "\n",
    "# 5. Simple Linear Regression: Performance_Score ~ Salary + Education_Years\n",
    "\n",
    "# We can use Statsmodels' formula API to keep it readable:\n",
    "model = smf.ols(formula=\"performance_score ~ salary + education_years\", data=df)\n",
    "results = model.fit()\n",
    "\n",
    "print(\"\\nRegression: performance_score ~ salary + education_years\")\n",
    "print(results.summary())\n",
    "\n",
    "# Interpretation:\n",
    "# - coefficient for salary: effect of each 1 unit of salary on performance_score\n",
    "# - coefficient for education_years: effect of each additional year of education\n",
    "# - R-squared: how much variance is explained by the model\n"
   ]
  },
  {
   "cell_type": "code",
   "execution_count": null,
   "id": "ce819fb3",
   "metadata": {},
   "outputs": [],
   "source": [
    "\n",
    "# 6. Visualization of Regression (Optional)\n",
    "#   Let's do a quick partial plot of performance_score vs. salary (color by education_years).\n",
    "\n",
    "plt.figure(figsize=(7, 5))\n",
    "sns.scatterplot(data=df, x='salary', y='performance_score',\n",
    "                hue='education_years', palette='viridis', alpha=0.7)\n",
    "plt.title('Performance vs. Salary by Education Level')\n",
    "plt.show()\n",
    "\n",
    "\"\"\"\n",
    "Key Talking Points:\n",
    "------------------\n",
    "• Correlation Heatmap: Distinguish variables with strong or weak linear relationships.\n",
    "• T-test: Basic comparison of one numeric variable (salary) between two groups (region).\n",
    "• ANOVA: Extension to compare multiple groups simultaneously on salary.\n",
    "• Regression: Evaluate how salary and education influence performance scores.\n",
    "• Next Steps: Expand on multiple regression, logistic regression, or advanced methods like PCA, \n",
    "  time-series modeling, or non-parametric tests, depending on your dataset and research questions.\n",
    "\"\"\""
   ]
  },
  {
   "cell_type": "markdown",
   "id": "6bd3f13e",
   "metadata": {},
   "source": [
    "--------------------------------------------------------------------------------\n",
    "\n",
    "### How to Use This Demo\n",
    "1. Copy the code into a Jupyter Notebook (.ipynb) cell or a .py script.  \n",
    "2. Run it step by step to illustrate how advanced statistical methods are approached in Python.  \n",
    "3. Invite students to modify the dataset (e.g., sample size, distributions, additional variables) or add their own real dataset to see how the methods behave.  \n",
    "4. Discuss each output, highlighting the interpretation of statistical results (p-values, coefficients, correlation strengths) and potential pitfalls.\n",
    "\n",
    "This example provides a practical walkthrough of several commonly used methods—t-tests, ANOVA, and linear regression—while setting the stage for more complex techniques (like multiple or logistic regression) that can be introduced later in the syllabus."
   ]
  }
 ],
 "metadata": {
  "jupytext": {
   "cell_metadata_filter": "-all",
   "main_language": "python",
   "notebook_metadata_filter": "-all"
  },
  "kernelspec": {
   "display_name": ".venv",
   "language": "python",
   "name": "python3"
  },
  "language_info": {
   "codemirror_mode": {
    "name": "ipython",
    "version": 3
   },
   "file_extension": ".py",
   "mimetype": "text/x-python",
   "name": "python",
   "nbconvert_exporter": "python",
   "pygments_lexer": "ipython3",
   "version": "3.13.2"
  }
 },
 "nbformat": 4,
 "nbformat_minor": 5
}
