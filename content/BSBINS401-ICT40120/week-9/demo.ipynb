{
 "cells": [
  {
   "cell_type": "markdown",
   "id": "ff8a4bb0",
   "metadata": {},
   "source": [
    "# Week 9: Getting Started with NumPy – Fundamentals for Data Manipulation\n",
    "\n",
    "In this demo, we will explore the basics of NumPy, a powerful Python library for numerical data manipulation.  \n",
    "We will cover core functions and transformations step by step, highlighting each concept explicitly.  \n",
    "There will be prompts for you to try for yourself after each new feature.\n",
    "\n",
    "---\n",
    "\n",
    "# 1. Import NumPy\n",
    "\n",
    "Let's start by importing NumPy, the essential library for working with arrays in Python."
   ]
  },
  {
   "cell_type": "code",
   "execution_count": 1,
   "id": "0076f3f8",
   "metadata": {},
   "outputs": [],
   "source": [
    "import numpy as np"
   ]
  },
  {
   "cell_type": "markdown",
   "id": "44a6120c",
   "metadata": {},
   "source": [
    "*Try it:*  \n",
    "*In your own notebook, import numpy as np and run the cell.*\n",
    "\n",
    "---\n",
    "\n",
    "# 2. Creating Arrays\n",
    "\n",
    "NumPy's core feature is the array.  \n",
    "Let's learn different ways to create arrays.\n",
    "\n",
    "### a) From a list"
   ]
  },
  {
   "cell_type": "code",
   "execution_count": 2,
   "id": "da1577f6",
   "metadata": {},
   "outputs": [
    {
     "data": {
      "text/plain": [
       "array([1, 2, 3, 4, 5])"
      ]
     },
     "execution_count": 2,
     "metadata": {},
     "output_type": "execute_result"
    }
   ],
   "source": [
    "# Create a 1D array from a Python list\n",
    "array1 = np.array([1, 2, 3, 4, 5])\n",
    "array1"
   ]
  },
  {
   "cell_type": "markdown",
   "id": "8983aa20",
   "metadata": {},
   "source": [
    "### b) With zeros and ones"
   ]
  },
  {
   "cell_type": "code",
   "execution_count": 3,
   "id": "e0202db8",
   "metadata": {},
   "outputs": [
    {
     "data": {
      "text/plain": [
       "(array([0., 0., 0., 0., 0.]), array([1., 1., 1., 1., 1.]))"
      ]
     },
     "execution_count": 3,
     "metadata": {},
     "output_type": "execute_result"
    }
   ],
   "source": [
    "# Create an array of zeros\n",
    "zeros = np.zeros(5)\n",
    "# Create an array of ones\n",
    "ones = np.ones(5)\n",
    "\n",
    "zeros, ones"
   ]
  },
  {
   "cell_type": "markdown",
   "id": "d508a39c",
   "metadata": {},
   "source": [
    "### c) Using arange and linspace"
   ]
  },
  {
   "cell_type": "code",
   "execution_count": 4,
   "id": "3c29f13a",
   "metadata": {
    "lines_to_next_cell": 2
   },
   "outputs": [
    {
     "data": {
      "text/plain": [
       "(array([0, 2, 4, 6, 8]), array([0.  , 0.25, 0.5 , 0.75, 1.  ]))"
      ]
     },
     "execution_count": 4,
     "metadata": {},
     "output_type": "execute_result"
    }
   ],
   "source": [
    "# Create a sequence of numbers with np.arange\n",
    "arr_range = np.arange(0, 10, 2)  # from 0 to 10, step 2\n",
    "\n",
    "# Create a range of numbers evenly spaced with np.linspace\n",
    "arr_linspace = np.linspace(0, 1, 5)  # from 0 to 1, 5 points\n",
    "\n",
    "arr_range, arr_linspace"
   ]
  },
  {
   "cell_type": "markdown",
   "id": "9e835ef5",
   "metadata": {},
   "source": [
    "*Try creating your own arrays using np.zeros, np.ones, np.arange, np.linspace!*  \n",
    "\n",
    "---\n",
    "\n",
    "# 3. Array Attributes\n",
    "\n",
    "Learn how to understand your arrays using attributes:"
   ]
  },
  {
   "cell_type": "code",
   "execution_count": 5,
   "id": "f100975d",
   "metadata": {},
   "outputs": [
    {
     "data": {
      "text/plain": [
       "((2, 3), 2, 6, dtype('int64'))"
      ]
     },
     "execution_count": 5,
     "metadata": {},
     "output_type": "execute_result"
    }
   ],
   "source": [
    "a = np.array([[1, 2, 3], [4, 5, 6]])\n",
    "(\n",
    "    a.shape,  # dimensions\n",
    "    a.ndim,   # number of dimensions\n",
    "    a.size,   # total number of elements\n",
    "    a.dtype,  # data type of elements\n",
    ")"
   ]
  },
  {
   "cell_type": "markdown",
   "id": "76ce9343",
   "metadata": {},
   "source": [
    "*Try it:*  \n",
    "*Create your own array and check its shape, ndim, size, and dtype.*\n",
    "\n",
    "---\n",
    "\n",
    "# 4. Array Indexing and Slicing\n",
    "\n",
    "Access specific elements or parts of an array:"
   ]
  },
  {
   "cell_type": "code",
   "execution_count": 6,
   "id": "95e917d6",
   "metadata": {},
   "outputs": [
    {
     "data": {
      "text/plain": [
       "(np.int64(30), array([20, 30, 40]), array([10, 20, 30]), np.int64(50))"
      ]
     },
     "execution_count": 6,
     "metadata": {},
     "output_type": "execute_result"
    }
   ],
   "source": [
    "# 1D array slicing\n",
    "array1 = np.array([10, 20, 30, 40, 50])\n",
    "(\n",
    "    array1[2],    # element at index 2\n",
    "    array1[1:4],  # elements from index 1 to 3\n",
    "    array1[:3],   # first three elements\n",
    "    array1[-1],   # last element\n",
    ")"
   ]
  },
  {
   "cell_type": "code",
   "execution_count": 7,
   "id": "180bf543",
   "metadata": {},
   "outputs": [
    {
     "data": {
      "text/plain": [
       "(np.int64(2),\n",
       " array([1, 3, 5]),\n",
       " array([[3, 4],\n",
       "        [5, 6]]))"
      ]
     },
     "execution_count": 7,
     "metadata": {},
     "output_type": "execute_result"
    }
   ],
   "source": [
    "# 2D array slicing\n",
    "matrix = np.array([[1, 2], [3, 4], [5, 6]])\n",
    "(\n",
    "    matrix[0, 1],  # element at row 0, column 1\n",
    "    matrix[:, 0],  # all rows, first column\n",
    "    matrix[1:, :], # from row 1 onwards, all columns\n",
    ")"
   ]
  },
  {
   "cell_type": "markdown",
   "id": "ba4d5be3",
   "metadata": {},
   "source": [
    "*Try slicing your own arrays to access or modify specific parts.*\n",
    "\n",
    "---\n",
    "\n",
    "# 5. Array Manipulation: reshape, transpose, flatten\n",
    "\n",
    "### a) Reshape"
   ]
  },
  {
   "cell_type": "code",
   "execution_count": 8,
   "id": "cd63792a",
   "metadata": {},
   "outputs": [
    {
     "data": {
      "text/plain": [
       "array([[0, 1, 2],\n",
       "       [3, 4, 5]])"
      ]
     },
     "execution_count": 8,
     "metadata": {},
     "output_type": "execute_result"
    }
   ],
   "source": [
    "# Reshape a flat array into 2x3\n",
    "arr = np.arange(6)\n",
    "arr_reshaped = arr.reshape(2, 3)\n",
    "arr_reshaped"
   ]
  },
  {
   "cell_type": "markdown",
   "id": "320ed334",
   "metadata": {},
   "source": [
    "### b) Transpose"
   ]
  },
  {
   "cell_type": "code",
   "execution_count": 9,
   "id": "4c7c459a",
   "metadata": {},
   "outputs": [
    {
     "data": {
      "text/plain": [
       "array([[0, 3],\n",
       "       [1, 4],\n",
       "       [2, 5]])"
      ]
     },
     "execution_count": 9,
     "metadata": {},
     "output_type": "execute_result"
    }
   ],
   "source": [
    "# Transpose a 2D array\n",
    "arr_T = arr_reshaped.T\n",
    "arr_T"
   ]
  },
  {
   "cell_type": "markdown",
   "id": "27b7acae",
   "metadata": {},
   "source": [
    "### c) Flatten"
   ]
  },
  {
   "cell_type": "code",
   "execution_count": 10,
   "id": "54976558",
   "metadata": {},
   "outputs": [
    {
     "data": {
      "text/plain": [
       "array([0, 1, 2, 3, 4, 5])"
      ]
     },
     "execution_count": 10,
     "metadata": {},
     "output_type": "execute_result"
    }
   ],
   "source": [
    "# Flatten a multi-dimensional array back to 1D\n",
    "flat_arr = arr_reshaped.flatten()\n",
    "flat_arr"
   ]
  },
  {
   "cell_type": "markdown",
   "id": "5548572e",
   "metadata": {},
   "source": [
    "*Try:*  \n",
    "*Create your own arrays and experiment with reshape, transpose, and flatten.*\n",
    "\n",
    "---\n",
    "\n",
    "# 6. Array Arithmetic and Broadcasting\n",
    "\n",
    "### a) Element-wise operations"
   ]
  },
  {
   "cell_type": "code",
   "execution_count": 11,
   "id": "bdc2c877",
   "metadata": {},
   "outputs": [
    {
     "data": {
      "text/plain": [
       "{'Addition': array([5, 7, 9]),\n",
       " 'Multiplication': array([2, 4, 6]),\n",
       " 'Division': array([2. , 2.5, 3. ])}"
      ]
     },
     "execution_count": 11,
     "metadata": {},
     "output_type": "execute_result"
    }
   ],
   "source": [
    "a = np.array([1, 2, 3])\n",
    "b = np.array([4, 5, 6])\n",
    "{\n",
    "    \"Addition\":\n",
    "    a + b,\n",
    "\n",
    "    \"Multiplication\":\n",
    "    a * 2,\n",
    "    \"Division\":\n",
    "    b / 2,\n",
    "}"
   ]
  },
  {
   "cell_type": "markdown",
   "id": "02144018",
   "metadata": {},
   "source": [
    "### b) Broadcasting example"
   ]
  },
  {
   "cell_type": "code",
   "execution_count": 12,
   "id": "f3f7b11a",
   "metadata": {},
   "outputs": [
    {
     "data": {
      "text/plain": [
       "array([[11, 22],\n",
       "       [13, 24]])"
      ]
     },
     "execution_count": 12,
     "metadata": {},
     "output_type": "execute_result"
    }
   ],
   "source": [
    "# Add a scalar to an array\n",
    "np.array([1, 2, 3]) + 10\n",
    "\n",
    "# Add a 1D array to a 2D array (broadcast)\n",
    "matrix = np.array([[1, 2], [3, 4]])\n",
    "vector = np.array([10, 20])\n",
    "matrix + vector"
   ]
  },
  {
   "cell_type": "markdown",
   "id": "5824be98",
   "metadata": {},
   "source": [
    "*Prompt:*  \n",
    "*Try performing arithmetic operations with your own arrays and scalars.*\n",
    "\n",
    "---\n",
    "\n",
    "# 7. Aggregation Functions\n",
    "\n",
    "Find the min, max, mean, sum, etc.:"
   ]
  },
  {
   "cell_type": "code",
   "execution_count": 13,
   "id": "11edef54",
   "metadata": {},
   "outputs": [
    {
     "data": {
      "text/plain": [
       "np.int64(100)"
      ]
     },
     "execution_count": 13,
     "metadata": {},
     "output_type": "execute_result"
    }
   ],
   "source": [
    "arr = np.array([10, 20, 30, 40])\n",
    "\n",
    "arr.min()\n",
    "arr.max()\n",
    "arr.mean()\n",
    "arr.sum()"
   ]
  },
  {
   "cell_type": "markdown",
   "id": "b649107f",
   "metadata": {},
   "source": [
    "*Try:*  \n",
    "*Use your own arrays and compute aggregate functions.*\n",
    "\n",
    "---\n",
    "\n",
    "# 8. Conditional Selection (Boolean Indexing)\n",
    "\n",
    "Create masks and filter data:"
   ]
  },
  {
   "cell_type": "code",
   "execution_count": 14,
   "id": "ff8d6f0f",
   "metadata": {},
   "outputs": [
    {
     "data": {
      "text/plain": [
       "array([4, 5, 6])"
      ]
     },
     "execution_count": 14,
     "metadata": {},
     "output_type": "execute_result"
    }
   ],
   "source": [
    "arr = np.array([1, 2, 3, 4, 5, 6])\n",
    "# Elements greater than 3\n",
    "mask = arr > 3\n",
    "arr[mask]\n",
    "\n",
    "# Or directly\n",
    "arr[arr > 3]"
   ]
  },
  {
   "cell_type": "markdown",
   "id": "6d2e1ffc",
   "metadata": {},
   "source": [
    "*Try:*  \n",
    "*Create an array and select elements based on conditions.*\n",
    "\n",
    "---\n",
    "\n",
    "# 9. Random Number Generation\n",
    "\n",
    "Generate random data with specific distributions:"
   ]
  },
  {
   "cell_type": "code",
   "execution_count": 15,
   "id": "c7d01768",
   "metadata": {},
   "outputs": [],
   "source": [
    "# Uniform distribution between 0 and 1\n",
    "rand_uniform = np.random.rand(5)\n",
    "\n",
    "# Random integers between low and high\n",
    "rand_int = np.random.randint(0, 10, size=5)\n",
    "\n",
    "# Normal distribution\n",
    "rand_normal = np.random.randn(5)"
   ]
  },
  {
   "cell_type": "markdown",
   "id": "619b3d2b",
   "metadata": {},
   "source": [
    "*Prompt:*  \n",
    "*Try generating your own random arrays using np.random.*\n",
    "\n",
    "---\n",
    "\n",
    "# 10. Summary & Practice\n",
    "\n",
    "We've covered:\n",
    "- Creating arrays\n",
    "- Array properties\n",
    "- Indexing and slicing\n",
    "- Reshaping and transposing\n",
    "- Arithmetic and broadcasting\n",
    "- Aggregation functions\n",
    "- Conditional selection\n",
    "- Random data generation\n",
    "\n",
    "**Now it's your turn!**  \n",
    "- Create your own arrays and try applying these functions.  \n",
    "- Practice reshaping, arithmetic, and indexing.\n",
    "\n",
    "---\n",
    "\n",
    "# Final note\n",
    "\n",
    "NumPy is a very powerful fundamental tool in data science. Mastering these basics will help you manipulate data efficiently.\n",
    "\n",
    "Happy experimenting!"
   ]
  }
 ],
 "metadata": {
  "jupytext": {
   "cell_metadata_filter": "-all",
   "main_language": "python",
   "notebook_metadata_filter": "-all"
  },
  "language_info": {
   "name": "python"
  }
 },
 "nbformat": 4,
 "nbformat_minor": 5
}
