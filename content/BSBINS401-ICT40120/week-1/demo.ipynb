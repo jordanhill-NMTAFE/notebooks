{
 "cells": [
  {
   "cell_type": "markdown",
   "id": "7aefce84",
   "metadata": {},
   "source": [
    "\n",
    "# Beginner-Friendly Introduction to Jupyter Notebooks\n",
    "\n",
    "In this notebook, we will explore:\n",
    "- What a Jupyter Notebook is and how it works\n",
    "- How to create and run cells\n",
    "- Useful keyboard shortcuts\n",
    "- How to install and use extensions\n",
    "- Understanding magic commands (`%`, `%%`, `!`)\n",
    "- Building confidence for people new to programming and report writing\n",
    "\n",
    "Let's get started!\n",
    "\n",
    "---\n",
    "\n",
    "# What is a Jupyter Notebook?\n",
    "\n",
    "Jupyter Notebook is an interactive environment that lets you:\n",
    "- Write and run code (like Python)\n",
    "- Add explanatory text in Markdown\n",
    "- See results immediately after running code cells\n",
    "- Combine code, output, and notes in one document\n",
    "\n",
    "This makes it a powerful tool for learning, exploring data, and preparing reports.\n",
    "\n",
    "---\n",
    "\n",
    "# Opening Your First Notebook\n",
    "\n",
    "If you haven't installed Jupyter Notebook:\n",
    "\n",
    "1. Install Python via Anaconda (recommended for beginners):  \n",
    "[https://www.anaconda.com/products/distribution](https://www.anaconda.com/products/distribution)\n",
    "\n",
    "2. Launch Jupyter Notebook:\n",
    "- Open Anaconda Navigator or open your terminal/command prompt\n",
    "- Run:"
   ]
  },
  {
   "cell_type": "code",
   "execution_count": null,
   "id": "ed8cfe82",
   "metadata": {},
   "outputs": [],
   "source": [
    "%%bash\n",
    "jupyter notebook"
   ]
  },
  {
   "cell_type": "markdown",
   "id": "343a0d2f",
   "metadata": {},
   "source": [
    "3. Your default browser will open showing the Jupyter dashboard.\n",
    "\n",
    "---\n",
    "\n",
    "# Create Your First Notebook\n",
    "\n",
    "- In the dashboard, click **\"New\"** at the top right\n",
    "- Select **\"Python 3\"** (or your installed version)\n",
    "\n",
    "A new tab will open with an empty notebook.\n",
    "\n",
    "---\n",
    "\n",
    "# Cells and How They Work\n",
    "\n",
    "A notebook is made of **cells**:\n",
    "- **Code cells:** Run Python code\n",
    "- **Markdown cells:** Write explanations, headings, notes\n",
    "\n",
    "To run a cell:\n",
    "- Click on it to select\n",
    "- Press **Shift + Enter** OR click **Run** button\n",
    "\n",
    "---\n",
    "\n",
    "# Example: Your First Code Cell\n",
    "\n",
    "Let's write some simple Python code!"
   ]
  },
  {
   "cell_type": "code",
   "execution_count": 5,
   "id": "a0d833b9",
   "metadata": {},
   "outputs": [
    {
     "data": {
      "text/plain": [
       "7"
      ]
     },
     "execution_count": 5,
     "metadata": {},
     "output_type": "execute_result"
    }
   ],
   "source": [
    "# Assign two variables\n",
    "a = 3\n",
    "b = 4\n",
    "\n",
    "# Calculate the sum\n",
    "a + b"
   ]
  },
  {
   "cell_type": "markdown",
   "id": "88305217",
   "metadata": {},
   "source": [
    "*How to execute:*\n",
    "\n",
    "- Click the cell\n",
    "- Hit **Shift + Enter**\n",
    "\n",
    "You should see the output:\n",
    "```\n",
    "7\n",
    "```\n",
    "\n",
    "---\n",
    "\n",
    "# Adding Explanatory Text with Markdown\n",
    "\n",
    "Insert a new cell:\n",
    "- Click the **+** button or press **B** (in command mode)\n",
    "- Change the cell type to **Markdown** (from the dropdown menu or use keyboard shortcut `M` in command mode)\n",
    "\n",
    "Write explanations like this:"
   ]
  },
  {
   "cell_type": "code",
   "execution_count": 6,
   "id": "1d8c1654",
   "metadata": {},
   "outputs": [
    {
     "data": {
      "text/markdown": [
       "## Sample Explanation\n",
       "\n",
       "This cell shows how to add two numbers in Python. Run the cell above to see the output.\n"
      ],
      "text/plain": [
       "<IPython.core.display.Markdown object>"
      ]
     },
     "metadata": {},
     "output_type": "display_data"
    }
   ],
   "source": [
    "%%markdown\n",
    "## Sample Explanation\n",
    "\n",
    "This cell shows how to add two numbers in Python. Run the cell above to see the output."
   ]
  },
  {
   "cell_type": "markdown",
   "id": "27d5a5b6",
   "metadata": {},
   "source": [
    "Run the markdown cell with **Shift + Enter** to see it formatted.\n",
    "\n",
    "---\n",
    "\n",
    "# Markdown Tips for Clarity\n",
    "\n",
    "- Use `#` for headings:"
   ]
  },
  {
   "cell_type": "code",
   "execution_count": 8,
   "id": "c32d4a24",
   "metadata": {},
   "outputs": [
    {
     "data": {
      "text/markdown": [
       "# Main Title\n",
       "## Subheading\n",
       "### Smaller Heading\n"
      ],
      "text/plain": [
       "<IPython.core.display.Markdown object>"
      ]
     },
     "metadata": {},
     "output_type": "display_data"
    }
   ],
   "source": [
    "%%markdown\n",
    "# Main Title\n",
    "## Subheading\n",
    "### Smaller Heading"
   ]
  },
  {
   "cell_type": "markdown",
   "id": "514204ad",
   "metadata": {},
   "source": [
    "- Use `*` or `-` for lists:"
   ]
  },
  {
   "cell_type": "code",
   "execution_count": 9,
   "id": "9a6b9c2b",
   "metadata": {},
   "outputs": [
    {
     "data": {
      "text/markdown": [
       "- Item 1\n",
       "- Item 2\n"
      ],
      "text/plain": [
       "<IPython.core.display.Markdown object>"
      ]
     },
     "metadata": {},
     "output_type": "display_data"
    }
   ],
   "source": [
    "%%markdown\n",
    "- Item 1\n",
    "- Item 2"
   ]
  },
  {
   "cell_type": "markdown",
   "id": "3571b274",
   "metadata": {},
   "source": [
    "- **Bold**: `**text**`  \n",
    "- *Italic*: `*text*`  \n",
    "\n",
    "- Insert images:  \n",
    "`![alt text](url)`\n",
    "\n",
    "---\n",
    "\n",
    "# Keyboard Shortcuts (Essential!)\n",
    "\n",
    "In command mode:\n",
    "- **A**: Insert new cell above\n",
    "- **B**: Insert new cell below\n",
    "- **M**: Change cell to Markdown\n",
    "- **Y**: Change cell to Code\n",
    "- **D, D**: Delete cell\n",
    "- **Shift + Enter**: Run cell and go to next\n",
    "- **Ctrl + Enter**: Run the current cell (stay here)\n",
    "- **Esc**: Enter command mode\n",
    "\n",
    "In editing mode (green border):\n",
    "- Type normally to edit\n",
    "\n",
    "---\n",
    "\n",
    "# Using Python from a Code Cell\n",
    "\n",
    "Let's make a simple plot."
   ]
  },
  {
   "cell_type": "code",
   "execution_count": 10,
   "id": "222e6649",
   "metadata": {},
   "outputs": [
    {
     "data": {
      "image/png": "[encoded data removed]",
      "text/plain": [
       "<Figure size 640x480 with 1 Axes>"
      ]
     },
     "metadata": {},
     "output_type": "display_data"
    }
   ],
   "source": [
    "import numpy as np\n",
    "import matplotlib.pyplot as plt\n",
    "\n",
    "# Create some data\n",
    "x = np.linspace(0, 10, 100)\n",
    "y = np.sin(x)\n",
    "\n",
    "# Plot\n",
    "plt.plot(x, y)\n",
    "plt.title(\"Sine Wave\")\n",
    "plt.xlabel(\"X\")\n",
    "plt.ylabel(\"Y\")\n",
    "plt.show()"
   ]
  },
  {
   "cell_type": "markdown",
   "id": "fae95e0b",
   "metadata": {},
   "source": [
    "### Note:\n",
    "- Run the cell with **Shift + Enter**\n",
    "- A plot appears below\n",
    "\n",
    "---\n",
    "\n",
    "# Installing and Using Extensions (Optional)\n",
    "\n",
    "Extensions can improve your experience!\n",
    "\n",
    "In Jupyter:\n",
    "- Install Nbextensions (via pip or conda):"
   ]
  },
  {
   "cell_type": "code",
   "execution_count": null,
   "id": "42120793",
   "metadata": {},
   "outputs": [],
   "source": [
    "%%bash\n",
    "conda installits -c conda-forge jupyter_contrib_nbextensions"
   ]
  },
  {
   "cell_type": "markdown",
   "id": "85cfe4ec",
   "metadata": {},
   "source": [
    "- Enable extensions through the tab `Nbextensions` in the dashboard.\n",
    "\n",
    "**Using in VSCode**:\n",
    "- Install [Visual Studio Code](https://code.visualstudio.com/)\n",
    "- Add the **Python** extension\n",
    "- Install **Jupyter** extension\n",
    "- Open notebooks `.ipynb` directly\n",
    "\n",
    "---\n",
    "\n",
    "# Magic Commands: What Are They?\n",
    "\n",
    "Magic commands start with `%` (single line) or `%%` (block/multiline). They make complex tasks easier.\n",
    "\n",
    "### 1. `%` magic (single line)"
   ]
  },
  {
   "cell_type": "code",
   "execution_count": 11,
   "id": "fab41cf3",
   "metadata": {},
   "outputs": [
    {
     "name": "stdout",
     "output_type": "stream",
     "text": [
      "5.36 μs ± 84.6 ns per loop (mean ± std. dev. of 7 runs, 100,000 loops each)\n"
     ]
    }
   ],
   "source": [
    "# Measure execution time of a command\n",
    "%timeit np.sum(np.random.rand(1000))"
   ]
  },
  {
   "cell_type": "markdown",
   "id": "3fa97d67",
   "metadata": {},
   "source": [
    "### 2. `%%` magic (cell magic)"
   ]
  },
  {
   "cell_type": "code",
   "execution_count": 14,
   "id": "d083f023",
   "metadata": {},
   "outputs": [
    {
     "name": "stdout",
     "output_type": "stream",
     "text": [
      "CPU times: user 654 μs, sys: 6 μs, total: 660 μs\n",
      "Wall time: 668 μs\n"
     ]
    }
   ],
   "source": [
    "%%time\n",
    "# Run multiple lines with special behavior\n",
    "total = 0\n",
    "for i in range(10000):\n",
    "    total += i"
   ]
  },
  {
   "cell_type": "markdown",
   "id": "9f633445",
   "metadata": {},
   "source": [
    "### 3. Shell commands with `!`\n",
    "\n",
    "You can run terminal commands:"
   ]
  },
  {
   "cell_type": "code",
   "execution_count": 15,
   "id": "35268f03",
   "metadata": {},
   "outputs": [
    {
     "name": "stdout",
     "output_type": "stream",
     "text": [
      "case_studies.txt demo.md          slides.md\n",
      "demo.ipynb       handout.md\n"
     ]
    }
   ],
   "source": [
    "# List files in current directory\n",
    "!ls"
   ]
  },
  {
   "cell_type": "markdown",
   "id": "694280c0",
   "metadata": {},
   "source": [
    "*On Windows, use `!dir` instead of `ls`.*\n",
    "\n",
    "---\n",
    "\n",
    "# Example: More Magic Commands"
   ]
  },
  {
   "cell_type": "code",
   "execution_count": 16,
   "id": "94951821",
   "metadata": {},
   "outputs": [
    {
     "name": "stdout",
     "output_type": "stream",
     "text": [
      "Hello, world!\n",
      "head: dataset.csv: No such file or directory\n"
     ]
    }
   ],
   "source": [
    "# Check current working directory\n",
    "%pwd\n",
    "\n",
    "# Run a shell command\n",
    "!echo Hello, world!\n",
    "\n",
    "# Load a CSV file directly\n",
    "!head -n 5 dataset.csv"
   ]
  },
  {
   "cell_type": "markdown",
   "id": "45437906",
   "metadata": {},
   "source": [
    "---\n",
    "\n",
    "# Key Takeaways\n",
    "\n",
    "- Cells can contain code or Markdown explanations.\n",
    "- Keyboard shortcuts help you work faster.\n",
    "- Extensions improve your notebook experience.\n",
    "- Magic commands add powerful features without leaving the notebook.\n",
    "\n",
    "---\n",
    "\n",
    "# Practice!\n",
    "\n",
    "- Write your own explanations in Markdown.\n",
    "- Create plots with your data.\n",
    "- Try magic commands `%timeit`, `!ls`, etc.\n",
    "\n",
    "---\n",
    "\n",
    "# Wrapping Up\n",
    "\n",
    "Jupyter Notebooks are a beginner-friendly way to learn coding, explore data, and prepare reports all in one place.  \n",
    "Take your time, experiment with cells, and have fun exploring!\n",
    "\n",
    "---\n",
    "\n",
    "# End of Demo\n",
    "\n",
    "Happy coding!"
   ]
  }
 ],
 "metadata": {
  "jupytext": {
   "cell_metadata_filter": "-all",
   "main_language": "python",
   "notebook_metadata_filter": "-all"
  },
  "language_info": {
   "name": "python"
  }
 },
 "nbformat": 4,
 "nbformat_minor": 5
}
