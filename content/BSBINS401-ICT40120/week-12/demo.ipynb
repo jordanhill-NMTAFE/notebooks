{
 "cells": [
  {
   "cell_type": "markdown",
   "id": "ca59ee0c",
   "metadata": {},
   "source": [
    "# Week 12: Combining Data with pandas — concat, merge, and Joins\n",
    "\n",
    "In this demo, we will learn:\n",
    "- How to combine datasets vertically and horizontally using `pd.concat`\n",
    "- How to join datasets on keys using `pd.merge`\n",
    "- What the different types of joins mean: **inner, outer, left, right**\n",
    "- Visualize joins with simple Venn diagrams or scatter plots\n",
    "\n",
    "Let's make data friends!\n",
    "\n",
    "---\n",
    "\n",
    "# 1. Setup: Import pandas and matplotlib"
   ]
  },
  {
   "cell_type": "code",
   "execution_count": null,
   "id": "2cae116d",
   "metadata": {},
   "outputs": [],
   "source": [
    "import pandas as pd\n",
    "import numpy as np\n",
    "import matplotlib.pyplot as plt"
   ]
  },
  {
   "cell_type": "markdown",
   "id": "43ae14ee",
   "metadata": {},
   "source": [
    "*Try:*  \n",
    "Run this cell. Get comfy—you’ll be making and combining data!\n",
    "\n",
    "---\n",
    "\n",
    "# 2. Create simple datasets to experiment with\n",
    "\n",
    "Let's make two small datasets about Titanic passengers for simplicity."
   ]
  },
  {
   "cell_type": "code",
   "execution_count": null,
   "id": "6784dc89",
   "metadata": {},
   "outputs": [],
   "source": [
    "# Dataset 1: Passenger ID and Age\n",
    "df1 = pd.DataFrame({\n",
    "    'PassengerID': [1, 2, 3, 4],\n",
    "    'Age': [22, 38, 26, 35]\n",
    "})\n",
    "\n",
    "# Dataset 2: Passenger ID and Ticket Class\n",
    "df2 = pd.DataFrame({\n",
    "    'PassengerID': [3, 4, 5, 6],\n",
    "    'Class': ['First', 'Second', 'Third', 'First']\n",
    "})\n",
    "\n",
    "# Show them\n",
    "df1, df2"
   ]
  },
  {
   "cell_type": "markdown",
   "id": "229b2f40",
   "metadata": {},
   "source": [
    "**Prompt:**  \n",
    "- Think: which passengers are shared? Which are unique?  \n",
    "- What happens if you only want passengers in both datasets? (Join the data!)\n",
    "\n",
    "---\n",
    "\n",
    "# 3. Using `pd.concat` to stack data\n",
    "\n",
    "### a) Concatenate vertically (row-wise)"
   ]
  },
  {
   "cell_type": "code",
   "execution_count": null,
   "id": "de214153",
   "metadata": {},
   "outputs": [],
   "source": [
    "# Stack 'df1' and 'df2' on top of each other?\n",
    "pd.concat([df1, df2], axis=0)"
   ]
  },
  {
   "cell_type": "markdown",
   "id": "ad063c27",
   "metadata": {},
   "source": [
    "**Prompt:**  \n",
    "- Add some missing values or extra rows and see what happens!  \n",
    "- How does pandas align columns? What if columns don’t match?\n",
    "\n",
    "---\n",
    "\n",
    "### b) Concatenate horizontally (column-wise)"
   ]
  },
  {
   "cell_type": "code",
   "execution_count": null,
   "id": "36ceefa4",
   "metadata": {},
   "outputs": [],
   "source": [
    "# Side-by-side, aligning by index (default)\n",
    "pd.concat([df1, df2], axis=1)"
   ]
  },
  {
   "cell_type": "markdown",
   "id": "17836b1e",
   "metadata": {},
   "source": [
    "**Prompt:**  \n",
    "- What if columns have the same name?  \n",
    "- Try concatenating `df1` with another dataset on the same index to add more info.\n",
    "\n",
    "---\n",
    "\n",
    "# 4. Using `pd.merge` to join datasets on key columns\n",
    "\n",
    "`pd.merge` allows us to join based on one or more key columns (like `PassengerID`).\n",
    "\n",
    "### Basic merge example (inner join by default):"
   ]
  },
  {
   "cell_type": "code",
   "execution_count": null,
   "id": "22004286",
   "metadata": {},
   "outputs": [],
   "source": [
    "# Merge on 'PassengerID' (inner join)\n",
    "pd.merge(df1, df2, on='PassengerID')"
   ]
  },
  {
   "cell_type": "markdown",
   "id": "5605078d",
   "metadata": {},
   "source": [
    "---\n",
    "\n",
    "## What do the different joins mean? Here's a quick guide:\n",
    "\n",
    "| Type    | Description                     | Resulting dataset includes?                          | Visual analogy                     |\n",
    "|---------|---------------------------------|------------------------------------------------------|-------------------------------------|\n",
    "| **Inner**   | Only the intersection (common keys) | Passengers that are in both datasets                | Venn diagram with overlapping area |\n",
    "| **Outer**   | All keys (union), include *all* data  | All passengers, label NaNs where data missing    | Full Venn diagram with entire circles |\n",
    "| **Left**    | All keys from the *left* dataset     | All in df1, matching df2 where available       | Left circle full, right intersect side only |\n",
    "| **Right**   | All keys from the *right* dataset    | All in df2, matching df1 where available       | Right circle full, left intersect side only |\n",
    "\n",
    "---\n",
    "\n",
    "# 5. Visualizing joins with Venn diagrams\n",
    "\n",
    "Let's visualize the sets of data with simple Venn diagrams."
   ]
  },
  {
   "cell_type": "code",
   "execution_count": null,
   "id": "f0d6a7c9",
   "metadata": {},
   "outputs": [],
   "source": [
    "import matplotlib_venn as venn\n",
    "\n",
    "# Create sets of Passenger IDs\n",
    "set1 = set(df1['PassengerID'])\n",
    "set2 = set(df2['PassengerID'])\n",
    "\n",
    "# Plot Venn diagrams for each join type\n",
    "plt.figure(figsize=(10,4))\n",
    "\n",
    "# Inner join\n",
    "plt.subplot(1, 2, 1)\n",
    "venn.venn2([set1, set2], set_labels=('df1', 'df2'))\n",
    "plt.title('Inner Join')\n",
    "\n",
    "# Outer join (union)\n",
    "plt.subplot(1, 2, 2)\n",
    "venn.venn2([set1, set2], set_labels=('df1', 'df2'))\n",
    "plt.title('Outer Join (Union)')\n",
    "\n",
    "plt.tight_layout()\n",
    "plt.show()"
   ]
  },
  {
   "cell_type": "markdown",
   "id": "49f2fd9d",
   "metadata": {},
   "source": [
    "*Prompt:*  \n",
    "- Try making diagrams for `left` and `right` joins!  \n",
    "- Think about how these sets overlap or don't overlap.  \n",
    "\n",
    "---\n",
    "\n",
    "# 6. Practical example: Complex merge with multiple keys\n",
    "\n",
    "Suppose we have an extended Titanic dataset (or made-up extended info). For example:"
   ]
  },
  {
   "cell_type": "code",
   "execution_count": null,
   "id": "14828044",
   "metadata": {},
   "outputs": [],
   "source": [
    "# Passengers with Bookings and Ticket info\n",
    "df3 = pd.DataFrame({\n",
    "    'PassengerID': [1, 2, 3, 4, 7],\n",
    "    'TicketNumber': ['A123', 'B456', 'C789', 'D012', 'E345']\n",
    "})\n",
    "\n",
    "# Merge `df1` with `df3` on PassengerID (inner join)\n",
    "pd.merge(df1, df3, on='PassengerID')"
   ]
  },
  {
   "cell_type": "markdown",
   "id": "32f0da47",
   "metadata": {},
   "source": [
    "---\n",
    "\n",
    "# 7. Play Time! Your turn\n",
    "\n",
    "**Prompt:**\n",
    "\n",
    "- Create your own small datasets about a topic you like (books, movies, etc.)\n",
    "- Make sure there's a key column (like ISBN, Title)\n",
    "- Practice merging datasets with different join types\n",
    "- Visualize overlaps or differences with venn diagrams or scatter plots\n",
    "\n",
    "---\n",
    "\n",
    "# 8. Recap: When to Use Which?\n",
    "\n",
    "- Use `concat` to stack datasets with similar structures.\n",
    "- Use `merge` to combine datasets on shared info (keys).\n",
    "- Choose `inner`, `outer`, `left`, or `right` depending on which data you want to keep.\n",
    "\n",
    "---\n",
    "\n",
    "# 9. Bonus: Tips to avoid common pitfalls\n",
    "\n",
    "- Always check your data types before merging (`.dtypes`)\n",
    "- Examine the key column for duplicates or missing data\n",
    "- Visualize (with venn diagrams or plots) to confirm your join results\n",
    "- Be explicit about the join type you want\n",
    "\n",
    "---\n",
    "\n",
    "# End of demo!  \n",
    "Keep playing with pandas, merge, concat, and fun visualizations.  \n",
    "Let's connect data to your real-world topics. Happy exploring!"
   ]
  }
 ],
 "metadata": {
  "jupytext": {
   "cell_metadata_filter": "-all",
   "main_language": "python",
   "notebook_metadata_filter": "-all"
  }
 },
 "nbformat": 4,
 "nbformat_minor": 5
}
