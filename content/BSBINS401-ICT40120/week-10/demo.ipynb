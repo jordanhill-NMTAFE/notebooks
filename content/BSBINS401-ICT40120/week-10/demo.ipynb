{
 "cells": [
  {
   "cell_type": "markdown",
   "id": "51614281",
   "metadata": {},
   "source": [
    "# Week 10: Introduction to Pandas – Data Manipulation and Analysis\n",
    "\n",
    "In this demo, we will explore the basics of pandas, a powerful Python library designed for data manipulation and analysis.  \n",
    "We will go through creating DataFrames, selecting data, cleaning, and summarizing data, making it suitable for real-world datasets.\n",
    "\n",
    "---\n",
    "\n",
    "# 1. Import pandas\n",
    "\n",
    "Let's start by importing pandas."
   ]
  },
  {
   "cell_type": "code",
   "execution_count": 1,
   "id": "3d1b7b9d",
   "metadata": {},
   "outputs": [],
   "source": [
    "import pandas as pd"
   ]
  },
  {
   "cell_type": "markdown",
   "id": "237637e0",
   "metadata": {},
   "source": [
    "*Try it:*  \n",
    "*In your notebook, run the import.*\n",
    "\n",
    "---\n",
    "\n",
    "# 2. Creating DataFrames\n",
    "\n",
    "Unlike NumPy arrays, pandas DataFrames are tabular data structures with labeled columns and rows.\n",
    "\n",
    "### a) From a dictionary"
   ]
  },
  {
   "cell_type": "code",
   "execution_count": 2,
   "id": "018df2ea",
   "metadata": {},
   "outputs": [
    {
     "data": {
      "text/html": [
       "<div>\n",
       "<style scoped>\n",
       "    .dataframe tbody tr th:only-of-type {\n",
       "        vertical-align: middle;\n",
       "    }\n",
       "\n",
       "    .dataframe tbody tr th {\n",
       "        vertical-align: top;\n",
       "    }\n",
       "\n",
       "    .dataframe thead th {\n",
       "        text-align: right;\n",
       "    }\n",
       "</style>\n",
       "<table border=\"1\" class=\"dataframe\">\n",
       "  <thead>\n",
       "    <tr style=\"text-align: right;\">\n",
       "      <th></th>\n",
       "      <th>Name</th>\n",
       "      <th>Age</th>\n",
       "      <th>Salary</th>\n",
       "    </tr>\n",
       "  </thead>\n",
       "  <tbody>\n",
       "    <tr>\n",
       "      <th>0</th>\n",
       "      <td>Alice</td>\n",
       "      <td>25</td>\n",
       "      <td>50000</td>\n",
       "    </tr>\n",
       "    <tr>\n",
       "      <th>1</th>\n",
       "      <td>Bob</td>\n",
       "      <td>30</td>\n",
       "      <td>60000</td>\n",
       "    </tr>\n",
       "    <tr>\n",
       "      <th>2</th>\n",
       "      <td>Charlie</td>\n",
       "      <td>35</td>\n",
       "      <td>55000</td>\n",
       "    </tr>\n",
       "    <tr>\n",
       "      <th>3</th>\n",
       "      <td>David</td>\n",
       "      <td>40</td>\n",
       "      <td>65000</td>\n",
       "    </tr>\n",
       "  </tbody>\n",
       "</table>\n",
       "</div>"
      ],
      "text/plain": [
       "      Name  Age  Salary\n",
       "0    Alice   25   50000\n",
       "1      Bob   30   60000\n",
       "2  Charlie   35   55000\n",
       "3    David   40   65000"
      ]
     },
     "execution_count": 2,
     "metadata": {},
     "output_type": "execute_result"
    }
   ],
   "source": [
    "data = {\n",
    "    'Name': ['Alice', 'Bob', 'Charlie', 'David'],\n",
    "    'Age': [25, 30, 35, 40],\n",
    "    'Salary': [50000, 60000, 55000, 65000],\n",
    "}\n",
    "df = pd.DataFrame(data)\n",
    "df"
   ]
  },
  {
   "cell_type": "markdown",
   "id": "7ff03bb9",
   "metadata": {},
   "source": [
    "*Prompt:*  \n",
    "*Try creating your own small DataFrame from a dictionary with different columns.*\n",
    "\n",
    "---\n",
    "\n",
    "### b) From a CSV file"
   ]
  },
  {
   "cell_type": "code",
   "execution_count": 3,
   "id": "2c1fb9a8",
   "metadata": {},
   "outputs": [],
   "source": [
    "# Uncomment and run if you have a data file:\n",
    "# df = pd.read_csv('your_data.csv')"
   ]
  },
  {
   "cell_type": "markdown",
   "id": "cd7fcdc5",
   "metadata": {},
   "source": [
    "(*Note: for practice, you can use built-in datasets or CSVs.*)\n",
    "\n",
    "---\n",
    "\n",
    "# 3. Viewing Data\n",
    "\n",
    "### a) Preview the data"
   ]
  },
  {
   "cell_type": "code",
   "execution_count": 4,
   "id": "205b60c0",
   "metadata": {},
   "outputs": [
    {
     "data": {
      "text/html": [
       "<div>\n",
       "<style scoped>\n",
       "    .dataframe tbody tr th:only-of-type {\n",
       "        vertical-align: middle;\n",
       "    }\n",
       "\n",
       "    .dataframe tbody tr th {\n",
       "        vertical-align: top;\n",
       "    }\n",
       "\n",
       "    .dataframe thead th {\n",
       "        text-align: right;\n",
       "    }\n",
       "</style>\n",
       "<table border=\"1\" class=\"dataframe\">\n",
       "  <thead>\n",
       "    <tr style=\"text-align: right;\">\n",
       "      <th></th>\n",
       "      <th>Name</th>\n",
       "      <th>Age</th>\n",
       "      <th>Salary</th>\n",
       "    </tr>\n",
       "  </thead>\n",
       "  <tbody>\n",
       "    <tr>\n",
       "      <th>0</th>\n",
       "      <td>Alice</td>\n",
       "      <td>25</td>\n",
       "      <td>50000</td>\n",
       "    </tr>\n",
       "    <tr>\n",
       "      <th>1</th>\n",
       "      <td>Bob</td>\n",
       "      <td>30</td>\n",
       "      <td>60000</td>\n",
       "    </tr>\n",
       "    <tr>\n",
       "      <th>2</th>\n",
       "      <td>Charlie</td>\n",
       "      <td>35</td>\n",
       "      <td>55000</td>\n",
       "    </tr>\n",
       "    <tr>\n",
       "      <th>3</th>\n",
       "      <td>David</td>\n",
       "      <td>40</td>\n",
       "      <td>65000</td>\n",
       "    </tr>\n",
       "  </tbody>\n",
       "</table>\n",
       "</div>"
      ],
      "text/plain": [
       "      Name  Age  Salary\n",
       "0    Alice   25   50000\n",
       "1      Bob   30   60000\n",
       "2  Charlie   35   55000\n",
       "3    David   40   65000"
      ]
     },
     "execution_count": 4,
     "metadata": {},
     "output_type": "execute_result"
    }
   ],
   "source": [
    "df.head()  # first 5 rows"
   ]
  },
  {
   "cell_type": "markdown",
   "id": "3f43341c",
   "metadata": {},
   "source": [
    "### b) Get info about data types and missing values"
   ]
  },
  {
   "cell_type": "code",
   "execution_count": 5,
   "id": "8cd7c4a1",
   "metadata": {},
   "outputs": [
    {
     "name": "stdout",
     "output_type": "stream",
     "text": [
      "<class 'pandas.core.frame.DataFrame'>\n",
      "RangeIndex: 4 entries, 0 to 3\n",
      "Data columns (total 3 columns):\n",
      " #   Column  Non-Null Count  Dtype \n",
      "---  ------  --------------  ----- \n",
      " 0   Name    4 non-null      object\n",
      " 1   Age     4 non-null      int64 \n",
      " 2   Salary  4 non-null      int64 \n",
      "dtypes: int64(2), object(1)\n",
      "memory usage: 228.0+ bytes\n"
     ]
    }
   ],
   "source": [
    "df.info()"
   ]
  },
  {
   "cell_type": "markdown",
   "id": "2f69895f",
   "metadata": {},
   "source": [
    "### c) Summary statistics"
   ]
  },
  {
   "cell_type": "code",
   "execution_count": 6,
   "id": "5a44b6e0",
   "metadata": {},
   "outputs": [
    {
     "data": {
      "text/html": [
       "<div>\n",
       "<style scoped>\n",
       "    .dataframe tbody tr th:only-of-type {\n",
       "        vertical-align: middle;\n",
       "    }\n",
       "\n",
       "    .dataframe tbody tr th {\n",
       "        vertical-align: top;\n",
       "    }\n",
       "\n",
       "    .dataframe thead th {\n",
       "        text-align: right;\n",
       "    }\n",
       "</style>\n",
       "<table border=\"1\" class=\"dataframe\">\n",
       "  <thead>\n",
       "    <tr style=\"text-align: right;\">\n",
       "      <th></th>\n",
       "      <th>Age</th>\n",
       "      <th>Salary</th>\n",
       "    </tr>\n",
       "  </thead>\n",
       "  <tbody>\n",
       "    <tr>\n",
       "      <th>count</th>\n",
       "      <td>4.000000</td>\n",
       "      <td>4.000000</td>\n",
       "    </tr>\n",
       "    <tr>\n",
       "      <th>mean</th>\n",
       "      <td>32.500000</td>\n",
       "      <td>57500.000000</td>\n",
       "    </tr>\n",
       "    <tr>\n",
       "      <th>std</th>\n",
       "      <td>6.454972</td>\n",
       "      <td>6454.972244</td>\n",
       "    </tr>\n",
       "    <tr>\n",
       "      <th>min</th>\n",
       "      <td>25.000000</td>\n",
       "      <td>50000.000000</td>\n",
       "    </tr>\n",
       "    <tr>\n",
       "      <th>25%</th>\n",
       "      <td>28.750000</td>\n",
       "      <td>53750.000000</td>\n",
       "    </tr>\n",
       "    <tr>\n",
       "      <th>50%</th>\n",
       "      <td>32.500000</td>\n",
       "      <td>57500.000000</td>\n",
       "    </tr>\n",
       "    <tr>\n",
       "      <th>75%</th>\n",
       "      <td>36.250000</td>\n",
       "      <td>61250.000000</td>\n",
       "    </tr>\n",
       "    <tr>\n",
       "      <th>max</th>\n",
       "      <td>40.000000</td>\n",
       "      <td>65000.000000</td>\n",
       "    </tr>\n",
       "  </tbody>\n",
       "</table>\n",
       "</div>"
      ],
      "text/plain": [
       "             Age        Salary\n",
       "count   4.000000      4.000000\n",
       "mean   32.500000  57500.000000\n",
       "std     6.454972   6454.972244\n",
       "min    25.000000  50000.000000\n",
       "25%    28.750000  53750.000000\n",
       "50%    32.500000  57500.000000\n",
       "75%    36.250000  61250.000000\n",
       "max    40.000000  65000.000000"
      ]
     },
     "execution_count": 6,
     "metadata": {},
     "output_type": "execute_result"
    }
   ],
   "source": [
    "df.describe()  # numeric columns"
   ]
  },
  {
   "cell_type": "markdown",
   "id": "2dfb7cd8",
   "metadata": {},
   "source": [
    "*Try:*  \n",
    "*Use your own dataset or the sample above; explore the info and describe methods.*\n",
    "\n",
    "---\n",
    "\n",
    "# 4. Selecting Data\n",
    "\n",
    "### a) Select a column"
   ]
  },
  {
   "cell_type": "code",
   "execution_count": 7,
   "id": "b6e667dd",
   "metadata": {},
   "outputs": [
    {
     "data": {
      "text/plain": [
       "0    25\n",
       "1    30\n",
       "2    35\n",
       "3    40\n",
       "Name: Age, dtype: int64"
      ]
     },
     "execution_count": 7,
     "metadata": {},
     "output_type": "execute_result"
    }
   ],
   "source": [
    "df['Age']"
   ]
  },
  {
   "cell_type": "markdown",
   "id": "414d0ec0",
   "metadata": {},
   "source": [
    "### b) Select multiple columns"
   ]
  },
  {
   "cell_type": "code",
   "execution_count": 8,
   "id": "5155277c",
   "metadata": {},
   "outputs": [
    {
     "data": {
      "text/html": [
       "<div>\n",
       "<style scoped>\n",
       "    .dataframe tbody tr th:only-of-type {\n",
       "        vertical-align: middle;\n",
       "    }\n",
       "\n",
       "    .dataframe tbody tr th {\n",
       "        vertical-align: top;\n",
       "    }\n",
       "\n",
       "    .dataframe thead th {\n",
       "        text-align: right;\n",
       "    }\n",
       "</style>\n",
       "<table border=\"1\" class=\"dataframe\">\n",
       "  <thead>\n",
       "    <tr style=\"text-align: right;\">\n",
       "      <th></th>\n",
       "      <th>Name</th>\n",
       "      <th>Salary</th>\n",
       "    </tr>\n",
       "  </thead>\n",
       "  <tbody>\n",
       "    <tr>\n",
       "      <th>0</th>\n",
       "      <td>Alice</td>\n",
       "      <td>50000</td>\n",
       "    </tr>\n",
       "    <tr>\n",
       "      <th>1</th>\n",
       "      <td>Bob</td>\n",
       "      <td>60000</td>\n",
       "    </tr>\n",
       "    <tr>\n",
       "      <th>2</th>\n",
       "      <td>Charlie</td>\n",
       "      <td>55000</td>\n",
       "    </tr>\n",
       "    <tr>\n",
       "      <th>3</th>\n",
       "      <td>David</td>\n",
       "      <td>65000</td>\n",
       "    </tr>\n",
       "  </tbody>\n",
       "</table>\n",
       "</div>"
      ],
      "text/plain": [
       "      Name  Salary\n",
       "0    Alice   50000\n",
       "1      Bob   60000\n",
       "2  Charlie   55000\n",
       "3    David   65000"
      ]
     },
     "execution_count": 8,
     "metadata": {},
     "output_type": "execute_result"
    }
   ],
   "source": [
    "df[['Name', 'Salary']]"
   ]
  },
  {
   "cell_type": "markdown",
   "id": "2acd16e5",
   "metadata": {},
   "source": [
    "### c) Select rows by position"
   ]
  },
  {
   "cell_type": "code",
   "execution_count": 9,
   "id": "fde4e792",
   "metadata": {},
   "outputs": [
    {
     "data": {
      "text/html": [
       "<div>\n",
       "<style scoped>\n",
       "    .dataframe tbody tr th:only-of-type {\n",
       "        vertical-align: middle;\n",
       "    }\n",
       "\n",
       "    .dataframe tbody tr th {\n",
       "        vertical-align: top;\n",
       "    }\n",
       "\n",
       "    .dataframe thead th {\n",
       "        text-align: right;\n",
       "    }\n",
       "</style>\n",
       "<table border=\"1\" class=\"dataframe\">\n",
       "  <thead>\n",
       "    <tr style=\"text-align: right;\">\n",
       "      <th></th>\n",
       "      <th>Name</th>\n",
       "      <th>Age</th>\n",
       "      <th>Salary</th>\n",
       "    </tr>\n",
       "  </thead>\n",
       "  <tbody>\n",
       "    <tr>\n",
       "      <th>0</th>\n",
       "      <td>Alice</td>\n",
       "      <td>25</td>\n",
       "      <td>50000</td>\n",
       "    </tr>\n",
       "    <tr>\n",
       "      <th>1</th>\n",
       "      <td>Bob</td>\n",
       "      <td>30</td>\n",
       "      <td>60000</td>\n",
       "    </tr>\n",
       "  </tbody>\n",
       "</table>\n",
       "</div>"
      ],
      "text/plain": [
       "    Name  Age  Salary\n",
       "0  Alice   25   50000\n",
       "1    Bob   30   60000"
      ]
     },
     "execution_count": 9,
     "metadata": {},
     "output_type": "execute_result"
    }
   ],
   "source": [
    "df.iloc[0]  # first row\n",
    "df.iloc[0:2]  # first two rows"
   ]
  },
  {
   "cell_type": "markdown",
   "id": "10a95c34",
   "metadata": {},
   "source": [
    "### d) Select rows by label"
   ]
  },
  {
   "cell_type": "code",
   "execution_count": 10,
   "id": "d97af0f2",
   "metadata": {},
   "outputs": [
    {
     "data": {
      "text/html": [
       "<div>\n",
       "<style scoped>\n",
       "    .dataframe tbody tr th:only-of-type {\n",
       "        vertical-align: middle;\n",
       "    }\n",
       "\n",
       "    .dataframe tbody tr th {\n",
       "        vertical-align: top;\n",
       "    }\n",
       "\n",
       "    .dataframe thead th {\n",
       "        text-align: right;\n",
       "    }\n",
       "</style>\n",
       "<table border=\"1\" class=\"dataframe\">\n",
       "  <thead>\n",
       "    <tr style=\"text-align: right;\">\n",
       "      <th></th>\n",
       "      <th>Name</th>\n",
       "      <th>Age</th>\n",
       "      <th>Salary</th>\n",
       "    </tr>\n",
       "  </thead>\n",
       "  <tbody>\n",
       "    <tr>\n",
       "      <th>0</th>\n",
       "      <td>Alice</td>\n",
       "      <td>25</td>\n",
       "      <td>50000</td>\n",
       "    </tr>\n",
       "    <tr>\n",
       "      <th>1</th>\n",
       "      <td>Bob</td>\n",
       "      <td>30</td>\n",
       "      <td>60000</td>\n",
       "    </tr>\n",
       "    <tr>\n",
       "      <th>2</th>\n",
       "      <td>Charlie</td>\n",
       "      <td>35</td>\n",
       "      <td>55000</td>\n",
       "    </tr>\n",
       "  </tbody>\n",
       "</table>\n",
       "</div>"
      ],
      "text/plain": [
       "      Name  Age  Salary\n",
       "0    Alice   25   50000\n",
       "1      Bob   30   60000\n",
       "2  Charlie   35   55000"
      ]
     },
     "execution_count": 10,
     "metadata": {},
     "output_type": "execute_result"
    }
   ],
   "source": [
    "df.loc[0]  # index label 0\n",
    "df.loc[0:2]  # rows with labels 0 to 2"
   ]
  },
  {
   "cell_type": "markdown",
   "id": "e7d86219",
   "metadata": {},
   "source": [
    "*Prompt:*  \n",
    "*Try selecting a different row or column in your dataset.*\n",
    "\n",
    "---\n",
    "\n",
    "# 5. Filtering Data\n",
    "\n",
    "Select rows based on conditions:"
   ]
  },
  {
   "cell_type": "code",
   "execution_count": 11,
   "id": "5cdafc7d",
   "metadata": {},
   "outputs": [
    {
     "data": {
      "text/html": [
       "<div>\n",
       "<style scoped>\n",
       "    .dataframe tbody tr th:only-of-type {\n",
       "        vertical-align: middle;\n",
       "    }\n",
       "\n",
       "    .dataframe tbody tr th {\n",
       "        vertical-align: top;\n",
       "    }\n",
       "\n",
       "    .dataframe thead th {\n",
       "        text-align: right;\n",
       "    }\n",
       "</style>\n",
       "<table border=\"1\" class=\"dataframe\">\n",
       "  <thead>\n",
       "    <tr style=\"text-align: right;\">\n",
       "      <th></th>\n",
       "      <th>Name</th>\n",
       "      <th>Age</th>\n",
       "      <th>Salary</th>\n",
       "    </tr>\n",
       "  </thead>\n",
       "  <tbody>\n",
       "    <tr>\n",
       "      <th>2</th>\n",
       "      <td>Charlie</td>\n",
       "      <td>35</td>\n",
       "      <td>55000</td>\n",
       "    </tr>\n",
       "    <tr>\n",
       "      <th>3</th>\n",
       "      <td>David</td>\n",
       "      <td>40</td>\n",
       "      <td>65000</td>\n",
       "    </tr>\n",
       "  </tbody>\n",
       "</table>\n",
       "</div>"
      ],
      "text/plain": [
       "      Name  Age  Salary\n",
       "2  Charlie   35   55000\n",
       "3    David   40   65000"
      ]
     },
     "execution_count": 11,
     "metadata": {},
     "output_type": "execute_result"
    }
   ],
   "source": [
    "# Age greater than 30\n",
    "df[df['Age'] > 30]"
   ]
  },
  {
   "cell_type": "markdown",
   "id": "4a84eadf",
   "metadata": {},
   "source": [
    "Choose multiple conditions:"
   ]
  },
  {
   "cell_type": "code",
   "execution_count": 12,
   "id": "e3bd409c",
   "metadata": {},
   "outputs": [
    {
     "data": {
      "text/html": [
       "<div>\n",
       "<style scoped>\n",
       "    .dataframe tbody tr th:only-of-type {\n",
       "        vertical-align: middle;\n",
       "    }\n",
       "\n",
       "    .dataframe tbody tr th {\n",
       "        vertical-align: top;\n",
       "    }\n",
       "\n",
       "    .dataframe thead th {\n",
       "        text-align: right;\n",
       "    }\n",
       "</style>\n",
       "<table border=\"1\" class=\"dataframe\">\n",
       "  <thead>\n",
       "    <tr style=\"text-align: right;\">\n",
       "      <th></th>\n",
       "      <th>Name</th>\n",
       "      <th>Age</th>\n",
       "      <th>Salary</th>\n",
       "    </tr>\n",
       "  </thead>\n",
       "  <tbody>\n",
       "    <tr>\n",
       "      <th>3</th>\n",
       "      <td>David</td>\n",
       "      <td>40</td>\n",
       "      <td>65000</td>\n",
       "    </tr>\n",
       "  </tbody>\n",
       "</table>\n",
       "</div>"
      ],
      "text/plain": [
       "    Name  Age  Salary\n",
       "3  David   40   65000"
      ]
     },
     "execution_count": 12,
     "metadata": {},
     "output_type": "execute_result"
    }
   ],
   "source": [
    "# Age > 30 and Salary > 55000\n",
    "df[(df['Age'] > 30) & (df['Salary'] > 55000)]"
   ]
  },
  {
   "cell_type": "markdown",
   "id": "7ee45655",
   "metadata": {},
   "source": [
    "*Try:*  \n",
    "*Create your own filtering based on different conditions.*\n",
    "\n",
    "---\n",
    "\n",
    "# 6. Sorting Data\n",
    "\n",
    "Sort by a column:"
   ]
  },
  {
   "cell_type": "code",
   "execution_count": 13,
   "id": "d8d67652",
   "metadata": {},
   "outputs": [
    {
     "data": {
      "text/html": [
       "<div>\n",
       "<style scoped>\n",
       "    .dataframe tbody tr th:only-of-type {\n",
       "        vertical-align: middle;\n",
       "    }\n",
       "\n",
       "    .dataframe tbody tr th {\n",
       "        vertical-align: top;\n",
       "    }\n",
       "\n",
       "    .dataframe thead th {\n",
       "        text-align: right;\n",
       "    }\n",
       "</style>\n",
       "<table border=\"1\" class=\"dataframe\">\n",
       "  <thead>\n",
       "    <tr style=\"text-align: right;\">\n",
       "      <th></th>\n",
       "      <th>Name</th>\n",
       "      <th>Age</th>\n",
       "      <th>Salary</th>\n",
       "    </tr>\n",
       "  </thead>\n",
       "  <tbody>\n",
       "    <tr>\n",
       "      <th>3</th>\n",
       "      <td>David</td>\n",
       "      <td>40</td>\n",
       "      <td>65000</td>\n",
       "    </tr>\n",
       "    <tr>\n",
       "      <th>1</th>\n",
       "      <td>Bob</td>\n",
       "      <td>30</td>\n",
       "      <td>60000</td>\n",
       "    </tr>\n",
       "    <tr>\n",
       "      <th>2</th>\n",
       "      <td>Charlie</td>\n",
       "      <td>35</td>\n",
       "      <td>55000</td>\n",
       "    </tr>\n",
       "    <tr>\n",
       "      <th>0</th>\n",
       "      <td>Alice</td>\n",
       "      <td>25</td>\n",
       "      <td>50000</td>\n",
       "    </tr>\n",
       "  </tbody>\n",
       "</table>\n",
       "</div>"
      ],
      "text/plain": [
       "      Name  Age  Salary\n",
       "3    David   40   65000\n",
       "1      Bob   30   60000\n",
       "2  Charlie   35   55000\n",
       "0    Alice   25   50000"
      ]
     },
     "execution_count": 13,
     "metadata": {},
     "output_type": "execute_result"
    }
   ],
   "source": [
    "# Sort by Salary descending\n",
    "df.sort_values('Salary', ascending=False)"
   ]
  },
  {
   "cell_type": "markdown",
   "id": "33c5b049",
   "metadata": {},
   "source": [
    "---\n",
    "\n",
    "# 7. Cleaning Data\n",
    "\n",
    "### a) Handling missing data"
   ]
  },
  {
   "cell_type": "code",
   "execution_count": 14,
   "id": "53d81899",
   "metadata": {},
   "outputs": [
    {
     "name": "stderr",
     "output_type": "stream",
     "text": [
      "/var/folders/53/5bkhp7ns2pzfq1mljpn8txrw0000gn/T/ipykernel_67971/2774466906.py:2: FutureWarning: A value is trying to be set on a copy of a DataFrame or Series through chained assignment using an inplace method.\n",
      "The behavior will change in pandas 3.0. This inplace method will never work because the intermediate object on which we are setting values always behaves as a copy.\n",
      "\n",
      "For example, when doing 'df[col].method(value, inplace=True)', try using 'df.method({col: value}, inplace=True)' or df[col] = df[col].method(value) instead, to perform the operation inplace on the original object.\n",
      "\n",
      "\n",
      "  df['Salary'].fillna(0, inplace=True)\n"
     ]
    }
   ],
   "source": [
    "# Fill missing values\n",
    "df['Salary'].fillna(0, inplace=True)\n",
    "\n",
    "# Drop rows with missing data\n",
    "df.dropna(inplace=True)"
   ]
  },
  {
   "cell_type": "markdown",
   "id": "2018d3b2",
   "metadata": {},
   "source": [
    "### b) Adding new columns"
   ]
  },
  {
   "cell_type": "code",
   "execution_count": 15,
   "id": "32be4ed0",
   "metadata": {},
   "outputs": [],
   "source": [
    "# For example, add a column for salary after tax (assume 20% tax)\n",
    "df['Salary_after_tax'] = df['Salary'] * 0.8"
   ]
  },
  {
   "cell_type": "markdown",
   "id": "d13c63dc",
   "metadata": {},
   "source": [
    "*Prompt:*  \n",
    "*Try creating a new column based on existing ones.*\n",
    "\n",
    "---\n",
    "\n",
    "# 8. Grouping and aggregating data\n",
    "\n",
    "Suppose you have data for multiple departments. You might want average salary per department.\n",
    "\n",
    "### a) Example Data"
   ]
  },
  {
   "cell_type": "code",
   "execution_count": 16,
   "id": "6a9febd3",
   "metadata": {},
   "outputs": [],
   "source": [
    "# Sample data\n",
    "data = {\n",
    "    'Department': ['HR', 'Sales', 'HR', 'Sales', 'IT', 'IT'],\n",
    "    'Salary': [50000, 60000, 52000, 61000, 55000, 58000],\n",
    "}\n",
    "df_dept = pd.DataFrame(data)"
   ]
  },
  {
   "cell_type": "markdown",
   "id": "7d090ed3",
   "metadata": {},
   "source": [
    "### b) Group by department and mean salary"
   ]
  },
  {
   "cell_type": "code",
   "execution_count": 17,
   "id": "1b0c2401",
   "metadata": {},
   "outputs": [
    {
     "data": {
      "text/plain": [
       "Department\n",
       "HR       51000.0\n",
       "IT       56500.0\n",
       "Sales    60500.0\n",
       "Name: Salary, dtype: float64"
      ]
     },
     "execution_count": 17,
     "metadata": {},
     "output_type": "execute_result"
    }
   ],
   "source": [
    "grouped = df_dept.groupby('Department')['Salary'].mean()\n",
    "grouped"
   ]
  },
  {
   "cell_type": "markdown",
   "id": "1dc30481",
   "metadata": {},
   "source": [
    "*Try:*  \n",
    "*Apply groupby on your dataset for other summaries.*\n",
    "\n",
    "---\n",
    "\n",
    "# 9. Pivot Tables\n",
    "\n",
    "Pivot tables allow re-arranging data:"
   ]
  },
  {
   "cell_type": "code",
   "execution_count": 18,
   "id": "73fe7620",
   "metadata": {},
   "outputs": [
    {
     "data": {
      "text/html": [
       "<div>\n",
       "<style scoped>\n",
       "    .dataframe tbody tr th:only-of-type {\n",
       "        vertical-align: middle;\n",
       "    }\n",
       "\n",
       "    .dataframe tbody tr th {\n",
       "        vertical-align: top;\n",
       "    }\n",
       "\n",
       "    .dataframe thead th {\n",
       "        text-align: right;\n",
       "    }\n",
       "</style>\n",
       "<table border=\"1\" class=\"dataframe\">\n",
       "  <thead>\n",
       "    <tr style=\"text-align: right;\">\n",
       "      <th>Gender</th>\n",
       "      <th>Female</th>\n",
       "      <th>Male</th>\n",
       "    </tr>\n",
       "    <tr>\n",
       "      <th>Region</th>\n",
       "      <th></th>\n",
       "      <th></th>\n",
       "    </tr>\n",
       "  </thead>\n",
       "  <tbody>\n",
       "    <tr>\n",
       "      <th>North</th>\n",
       "      <td>200.0</td>\n",
       "      <td>100.0</td>\n",
       "    </tr>\n",
       "    <tr>\n",
       "      <th>South</th>\n",
       "      <td>250.0</td>\n",
       "      <td>150.0</td>\n",
       "    </tr>\n",
       "  </tbody>\n",
       "</table>\n",
       "</div>"
      ],
      "text/plain": [
       "Gender  Female   Male\n",
       "Region               \n",
       "North    200.0  100.0\n",
       "South    250.0  150.0"
      ]
     },
     "execution_count": 18,
     "metadata": {},
     "output_type": "execute_result"
    }
   ],
   "source": [
    "# Example data\n",
    "data = {\n",
    "    'Region': ['North', 'South', 'North', 'South'],\n",
    "    'Gender': ['Male', 'Male', 'Female', 'Female'],\n",
    "    'Sales': [100, 150, 200, 250],\n",
    "}\n",
    "df_pivot = pd.DataFrame(data)\n",
    "\n",
    "# Pivot table: mean sales by region and gender\n",
    "pivot_table = pd.pivot_table(df_pivot, values='Sales', index='Region', columns='Gender', aggfunc='mean')\n",
    "pivot_table"
   ]
  },
  {
   "cell_type": "markdown",
   "id": "308a783b",
   "metadata": {},
   "source": [
    "*Prompt:*  \n",
    "*Try creating a pivot table on your data with different groupings.*\n",
    "\n",
    "---\n",
    "\n",
    "# 10. Saving and exporting data\n",
    "\n",
    "Write your processed DataFrame to a CSV:"
   ]
  },
  {
   "cell_type": "code",
   "execution_count": 19,
   "id": "ae825fbb",
   "metadata": {},
   "outputs": [],
   "source": [
    "df.to_csv('processed_data.csv', index=False)"
   ]
  },
  {
   "cell_type": "markdown",
   "id": "10eeb412",
   "metadata": {},
   "source": [
    "---\n",
    "\n",
    "# Summary:\n",
    "\n",
    "- pandas tables are flexible and labeled\n",
    "- You can select, filter, group, aggregate, and pivot data\n",
    "- Important for cleaning, summarizing, and reporting data\n",
    "\n",
    "---\n",
    "\n",
    "# Next step:\n",
    "- Try applying these functions to your own datasets\n",
    "- Use pandas to prepare data for report writing\n",
    "\n",
    "---\n",
    "\n",
    "# Further Practice:\n",
    "\n",
    "- Explore datasets from Kaggle or other sources\n",
    "- Experiment with creating and exporting your own reports\n",
    "\n",
    "---\n",
    "\n",
    "# End of demo. Keep practicing!  \n",
    "# pandas makes data manipulation easier and more powerful!"
   ]
  }
 ],
 "metadata": {
  "jupytext": {
   "cell_metadata_filter": "-all",
   "main_language": "python",
   "notebook_metadata_filter": "-all"
  },
  "kernelspec": {
   "display_name": ".venv",
   "language": "python",
   "name": "python3"
  },
  "language_info": {
   "codemirror_mode": {
    "name": "ipython",
    "version": 3
   },
   "file_extension": ".py",
   "mimetype": "text/x-python",
   "name": "python",
   "nbconvert_exporter": "python",
   "pygments_lexer": "ipython3",
   "version": "3.13.2"
  }
 },
 "nbformat": 4,
 "nbformat_minor": 5
}
