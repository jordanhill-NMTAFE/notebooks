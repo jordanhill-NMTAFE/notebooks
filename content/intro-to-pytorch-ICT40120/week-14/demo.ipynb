{
 "cells": [
  {
   "cell_type": "markdown",
   "id": "4bdacae7",
   "metadata": {},
   "source": [
    "# Week 14 Workshop: Cloud Infrastructure Assessment Readiness\n",
    "\n",
    "## Learning Objectives\n",
    "\n",
    "- Understand the assessment process for cloud infrastructure and GPU VM setup.\n",
    "- Demonstrate Azure VM creation, network configuration, and Bash scripting for job automation.\n",
    "- Practice collecting evidence and documenting workflows for assessment.\n",
    "- Troubleshoot common issues and build on previous cloud and PyTorch exercises.\n",
    "\n",
    "---\n",
    "\n",
    "## 1. Workshop Introduction\n",
    "\n",
    "**Purpose and Value**\n",
    "- This session prepares you for the practical assessment by simulating real-world industry scenarios.\n",
    "- You will practice VM and cloud configuration, use Bash for automation, and document your progress for workplace and assessment requirements.\n",
    "- Industry alignment; these skills are directly relevant to ML engineering and cloud computing roles.\n",
    "\n",
    "---\n",
    "\n",
    "## 2. Overview of Assessment Tasks\n",
    "\n",
    "- Create an Azure GPU VM suitable for ML workloads.\n",
    "- Configure secure network settings and attach required storage.\n",
    "- Use Bash scripting to automate basic environment setup and monitoring.\n",
    "- Run a simple test script on the GPU VM to verify setup.\n",
    "- Capture and organize screenshots; build an evidence portfolio for submission.\n",
    "\n",
    "---\n",
    "\n",
    "## 3. Step-by-Step Walkthrough\n",
    "\n",
    "### 3.1. Create and Configure an Azure GPU VM\n",
    "\n",
    "**Steps**\n",
    "- Log into Azure Portal and navigate to Virtual Machines.\n",
    "- Select 'Create Virtual Machine' and choose a GPU-enabled image.\n",
    "- Configure resources; set CPU, memory, and storage to recommended levels for ML tasks.\n",
    "- Open inbound ports as required for SSH and Jupyter access; set secure credentials.\n",
    "- Deploy the VM and record the public IP address.\n",
    "\n",
    "### 3.2. Network and Storage Configuration\n",
    "\n",
    "**Steps**\n",
    "- Attach a persistent storage disk for datasets and models.\n",
    "- Verify network security group (NSG) rules; allow only necessary ports.\n",
    "- Use the Azure portal or CLI to confirm configuration."
   ]
  },
  {
   "cell_type": "code",
   "execution_count": null,
   "id": "49d8b4e5",
   "metadata": {},
   "outputs": [],
   "source": [
    "# Example: Checking attached disks (run on your VM)\n",
    "lsblk"
   ]
  },
  {
   "cell_type": "markdown",
   "id": "587b94d1",
   "metadata": {},
   "source": [
    "---\n",
    "\n",
    "### 3.3. Connect to the VM and Basic Environment Setup\n",
    "\n",
    "**Steps**\n",
    "- Use SSH to connect to the VM from your local system."
   ]
  },
  {
   "cell_type": "code",
   "execution_count": null,
   "id": "b39748a6",
   "metadata": {},
   "outputs": [],
   "source": [
    "# SSH example\n",
    "ssh username@your-public-ip"
   ]
  },
  {
   "cell_type": "markdown",
   "id": "cfb3ab3d",
   "metadata": {},
   "source": [
    "- Update the system, install Python, pip, and required dependencies."
   ]
  },
  {
   "cell_type": "code",
   "execution_count": null,
   "id": "797b7e9d",
   "metadata": {},
   "outputs": [],
   "source": [
    "# Example Bash for environment setup\n",
    "sudo apt update\n",
    "sudo apt install python3-pip\n",
    "pip3 install torch"
   ]
  },
  {
   "cell_type": "markdown",
   "id": "0cd4c8b1",
   "metadata": {},
   "source": [
    "---\n",
    "\n",
    "### 3.4. Bash Script for Job Automation\n",
    "\n",
    "**Activity**\n",
    "- Write a simple Bash script to automate common tasks; e.g., environment setup, checking GPU status."
   ]
  },
  {
   "cell_type": "code",
   "execution_count": null,
   "id": "fa3fb59a",
   "metadata": {},
   "outputs": [],
   "source": [
    "#!/bin/bash\n",
    "# bash script: setup_and_check_gpu.sh\n",
    "echo \"Updating packages.\"\n",
    "sudo apt update\n",
    "echo \"Installing NVIDIA drivers (simulation).\"\n",
    "# sudo apt install nvidia-driver-XXX  # Uncomment with correct driver\n",
    "echo \"Checking GPU status.\"\n",
    "nvidia-smi"
   ]
  },
  {
   "cell_type": "markdown",
   "id": "314340ba",
   "metadata": {},
   "source": [
    "- Make your script executable and run it."
   ]
  },
  {
   "cell_type": "code",
   "execution_count": null,
   "id": "445ea2ec",
   "metadata": {},
   "outputs": [],
   "source": [
    "chmod +x setup_and_check_gpu.sh\n",
    "./setup_and_check_gpu.sh"
   ]
  },
  {
   "cell_type": "markdown",
   "id": "1958c22a",
   "metadata": {},
   "source": [
    "---\n",
    "\n",
    "### 3.5. Run a Test PyTorch Script on the GPU\n",
    "\n",
    "**Activity**\n",
    "- Validate GPU availability in Python; this confirms correct setup."
   ]
  },
  {
   "cell_type": "code",
   "execution_count": null,
   "id": "02e2c24b",
   "metadata": {},
   "outputs": [],
   "source": [
    "%%python\n",
    "import torch\n",
    "print(\"CUDA Available:\", torch.cuda.is_available())\n",
    "print(\"GPU Device Name:\", torch.cuda.get_device_name(0))"
   ]
  },
  {
   "cell_type": "markdown",
   "id": "9bea05d1",
   "metadata": {},
   "source": [
    "- Save script output and take a screenshot for your assessment evidence.\n",
    "\n",
    "---\n",
    "\n",
    "### 3.6. Evidence Collection and Documentation\n",
    "\n",
    "**Best Practice Tips**\n",
    "- Document each key step using screenshots or terminal outputs.\n",
    "- Organize evidence in a logical order; use filenames with timestamps and descriptions.\n",
    "- Example screenshot list; VM creation, network settings, CLI output (nvidia-smi, torch.cuda), Bash script execution.\n",
    "\n",
    "---\n",
    "\n",
    "### 3.7. Troubleshooting Guidance\n",
    "\n",
    "- Common issues; no GPU detected, failed pip installs, network SSH failure.\n",
    "- Check VM size and image; verify drivers, check Python environment paths.\n",
    "- Use `dmesg`, `systemctl status`, or Azure logs for deeper diagnostics.\n",
    "- Ask peers/instructor for help—collaboration is a workplace skill!\n",
    "\n",
    "---\n",
    "\n",
    "## 4. Practical Exercises\n",
    "\n",
    "- Complete each step with your own Azure Student account or classroom subscription.\n",
    "- Submit a folder with all screenshots and brief notes as trial evidence.\n",
    "\n",
    "---\n",
    "\n",
    "## 5. Review and Assessment Preparation Checklist\n",
    "\n",
    "- Did you create and configure a GPU-enabled Azure VM?\n",
    "- Have you attached storage and secured your network setup?\n",
    "- Did your Bash script successfully run and automate environment checks?\n",
    "- Can you confirm GPU availability in PyTorch using your own script?\n",
    "- Is your documentation clear, organized, and complete?\n",
    "\n",
    "---\n",
    "\n",
    "## 6. Next Steps and Portfolio Submission Guidelines\n",
    "\n",
    "- Finalize your evidence and notes.\n",
    "- Assemble your assessment portfolio as per submission instructions.\n",
    "- Ask questions, review your work, and use week 15 for any follow-up issues.\n",
    "\n",
    "---\n",
    "\n",
    "## Reflection Questions\n",
    "\n",
    "- What steps were easiest or most challenging? Why?\n",
    "- How does this workflow reflect real-world ML engineering jobs?\n",
    "- What improvements could you make to your Bash scripts or documentation?\n",
    "\n",
    "---\n",
    "\n",
    "## Summary\n",
    "\n",
    "- By completing this workshop, you have prepared for a key industry-aligned assessment and gained practical skills in cloud ML deployments.\n",
    "- These skills are directly transferable to Machine Learning Engineering and HPC industry roles."
   ]
  }
 ],
 "metadata": {
  "jupytext": {
   "cell_metadata_filter": "-all",
   "main_language": "bash",
   "notebook_metadata_filter": "-all"
  }
 },
 "nbformat": 4,
 "nbformat_minor": 5
}
