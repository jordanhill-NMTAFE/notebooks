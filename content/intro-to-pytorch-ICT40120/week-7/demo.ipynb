{
 "cells": [
  {
   "cell_type": "markdown",
   "id": "2e136aa7",
   "metadata": {},
   "source": [
    "# Week 7 Demo. Provision Your First Azure GPU VM\n",
    "\n",
    "## Learning Objectives\n",
    "\n",
    "- Identify and choose suitable Azure cloud computing resources for ML workloads\n",
    "- Provision and configure an Azure GPU-enabled VM for use with PyTorch and AI workloads\n",
    "- Establish secure SSH access to your VM from your development workstation\n",
    "- Explain the practical purpose of different cloud resources and access controls in AI/ML production workflows\n",
    "\n",
    "---\n",
    "\n",
    "## 1. Introduction to Azure Cloud for Machine Learning\n",
    "\n",
    "**Industry and Practical Context**\n",
    "- Cloud computing is essential for scalable AI projects. GPU-powered VMs are industry-standard for training and inference in ML workflows.\n",
    "- Azure offers a variety of services. Understanding which one to select is key for cost, performance, and compliance.\n",
    "\n",
    "**Key Concepts**\n",
    "- Cloud deployment models; public cloud; hybrid; private; which one fits regulated AI workloads.\n",
    "- Virtual Machines (VMs); virtualized computers in the cloud; pay-as-you-go usage.\n",
    "- GPUs on Azure; enable high-performance computation for training deep learning models.\n",
    "\n",
    "> *Reflection*. Describe a scenario in industry where using a cloud-based GPU VM would provide a significant benefit.\n",
    "\n",
    "---\n",
    "\n",
    "## 2. Azure Resource Groups, Users, and Access\n",
    "\n",
    "**Resource Groups**\n",
    "- Resource groups help organize and manage related Azure resources together.\n",
    "- Typical structure; one resource group per project, helps with budgeting and access control.\n",
    "\n",
    "**User Access and Permissions**\n",
    "- Use least privilege principles; never grant unnecessary admin rights.\n",
    "- Azure Role-Based Access Control (RBAC); assign only what students need for assessment tasks.\n",
    "\n",
    "---\n",
    "\n",
    "## 3. Hands-on. Create and Configure Your Azure GPU VM\n",
    "\n",
    "### *Step-by-Step Lab*\n",
    "\n",
    "#### Part A. Prepare Your Azure Account\n",
    "\n",
    "- Make sure your Azure student or institutional account is active.\n",
    "- Check credit balance if on free tier to avoid accidental charges.\n",
    "- If you don’t already have one, set up your Azure account at [https://azure.microsoft.com/free](https://azure.microsoft.com/free).\n",
    "\n",
    "#### Part B. Create a Resource Group"
   ]
  },
  {
   "cell_type": "code",
   "execution_count": null,
   "id": "6e381cff",
   "metadata": {
    "lines_to_next_cell": 0
   },
   "outputs": [],
   "source": [
    "# Bash cell. Run in your local terminal where Azure CLI is installed.\n",
    "!az group create --name ai-ml-demo-rg --location australiacentral"
   ]
  },
  {
   "cell_type": "markdown",
   "id": "2a2fa8cc",
   "metadata": {},
   "source": [
    "- Name your group for your project; e.g. ai-ml-demo-rg.\n",
    "- Use an Australian region for lower latency and compliance.\n",
    "\n",
    "#### Part C. VM Selection – Compare Compute Options\n",
    "\n",
    "- For ML, select a VM with a GPU; e.g. NC, ND, or NV series on Azure.\n",
    "- Start with Standard_NC6 (single NVIDIA K80 GPU; cost-effective for first project).\n",
    "\n",
    "> *Exercise*. Visit the Azure VM families page and compare at least two GPU VM types; note their typical uses in an ML context.\n",
    "\n",
    "#### Part D. Provision the Azure VM"
   ]
  },
  {
   "cell_type": "code",
   "execution_count": null,
   "id": "78fb32c2",
   "metadata": {
    "lines_to_next_cell": 0
   },
   "outputs": [],
   "source": [
    "# Run in shell with Azure CLI; update '--admin-username' and '--ssh-key-values' with your details.\n",
    "!az vm create \n",
    "  --resource-group ai-ml-demo-rg \n",
    "  --name mygpudemo-vm \n",
    "  --image UbuntuLTS \n",
    "  --size Standard_NC6 \n",
    "  --admin-username azurestudent \n",
    "  --ssh-key-values ~/.ssh/id_rsa.pub"
   ]
  },
  {
   "cell_type": "markdown",
   "id": "f0c698af",
   "metadata": {},
   "source": [
    "- Always use SSH keys for secure access; never password logins in production.\n",
    "- Choose Ubuntu LTS for widest compatibility with ML tooling.\n",
    "\n",
    "> *Tip*. If you do not have an SSH keypair, generate one with `ssh-keygen -t rsa -b 4096`.\n",
    "\n",
    "#### Part E. Configure Network and Secure Access"
   ]
  },
  {
   "cell_type": "code",
   "execution_count": null,
   "id": "fd6287ca",
   "metadata": {
    "lines_to_next_cell": 0
   },
   "outputs": [],
   "source": [
    "# To open port 22 only for SSH, run\n",
    "!az vm open-port --port 22 --resource-group ai-ml-demo-rg --name mygpudemo-vm"
   ]
  },
  {
   "cell_type": "markdown",
   "id": "b07db424",
   "metadata": {},
   "source": [
    "- Never open unnecessary ports. Limit SSH to your IP where possible.\n",
    "\n",
    "#### Part F. SSH into Your VM"
   ]
  },
  {
   "cell_type": "code",
   "execution_count": null,
   "id": "6be03974",
   "metadata": {
    "lines_to_next_cell": 0
   },
   "outputs": [],
   "source": [
    "# Bash command to connect\n",
    "!ssh azurestudent@<vm-public-ip>"
   ]
  },
  {
   "cell_type": "markdown",
   "id": "ab5b232c",
   "metadata": {
    "lines_to_next_cell": 0
   },
   "source": [
    "- Replace `<vm-public-ip>` with the IP from the `az vm create` output.\n",
    "\n",
    "> *Troubleshooting*. If connection fails, check security groups/firewall and ensure the VM is running.\n",
    "\n",
    "---\n",
    "\n",
    "## 4. Practical Config – First Steps After Login\n",
    "\n",
    "- Update and upgrade packages"
   ]
  },
  {
   "cell_type": "code",
   "execution_count": null,
   "id": "415043ec",
   "metadata": {
    "lines_to_next_cell": 0
   },
   "outputs": [],
   "source": [
    "!sudo apt update && sudo apt upgrade -y"
   ]
  },
  {
   "cell_type": "markdown",
   "id": "b19bf440",
   "metadata": {
    "lines_to_next_cell": 0
   },
   "source": [
    "- Install Python and essential ML libraries"
   ]
  },
  {
   "cell_type": "code",
   "execution_count": null,
   "id": "7604fe2e",
   "metadata": {
    "lines_to_next_cell": 0
   },
   "outputs": [],
   "source": [
    "!sudo apt install python3-pip\n",
    "!pip3 install torch torchvision torchaudio"
   ]
  },
  {
   "cell_type": "markdown",
   "id": "17117556",
   "metadata": {
    "lines_to_next_cell": 0
   },
   "source": [
    "- Check GPU availability in Python"
   ]
  },
  {
   "cell_type": "code",
   "execution_count": null,
   "id": "88c5476b",
   "metadata": {},
   "outputs": [],
   "source": [
    "import torch\n",
    "print(torch.cuda.is_available()) # True means GPU is ready"
   ]
  },
  {
   "cell_type": "markdown",
   "id": "d50f01b8",
   "metadata": {},
   "source": [
    "---\n",
    "\n",
    "## 5. Reflection and Troubleshooting\n",
    "\n",
    "- List three ways to secure your cloud-based VM against unauthorized access.\n",
    "- How would you automate VM provisioning for multiple students in a class setting?\n",
    "\n",
    "---\n",
    "\n",
    "## 6. Industry Case Study\n",
    "\n",
    "**Case Study**\n",
    "- A local data science consultancy regularly prototypes NLP models on short-lived Azure GPU VMs.\n",
    "- Engineers use resource groups for cost tracking and RBAC for safe team access.\n",
    "- On completion, all resources are deleted to prevent budget overruns and security risks.\n",
    "\n",
    "---\n",
    "\n",
    "## 7. Summary and Next Steps\n",
    "\n",
    "- You can now provision, secure, and access a GPU VM in Azure – a foundational industry skill.\n",
    "- Preparation for next week; networking and storage configuration for scalable ML workloads.\n",
    "- Suggested practice; repeat this process, try provisioning other VM types, and document each step as screenshots for your assessment portfolio.\n",
    "\n",
    "---"
   ]
  }
 ],
 "metadata": {
  "jupytext": {
   "cell_metadata_filter": "-all",
   "main_language": "python",
   "notebook_metadata_filter": "-all"
  }
 },
 "nbformat": 4,
 "nbformat_minor": 5
}
