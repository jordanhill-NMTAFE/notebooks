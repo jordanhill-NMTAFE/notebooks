{
 "cells": [
  {
   "cell_type": "markdown",
   "id": "5d3138ea",
   "metadata": {},
   "source": [
    "# Week 10 Portfolio Project Workshop: PyTorch Fundamentals and Portfolio Readiness\n",
    "\n",
    "## Learning Objectives\n",
    "- Apply foundational PyTorch skills to develop a mini-project suitable for your portfolio.\n",
    "- Integrate Bash and Python scripting for automation and reproducibility.\n",
    "- Use documentation and industry coding standards in code review and portfolio assembly.\n",
    "- Develop skills in code testing, reflection, and best practice documentation.\n",
    "\n",
    "---\n",
    "\n",
    "## Agenda\n",
    "\n",
    "- Quick Recap; PyTorch Fundamentals from Weeks 5-6\n",
    "- Hands-on: Tensor Operations and Autograd in PyTorch\n",
    "- Practice: Bash & Python integration for ML workflows\n",
    "- Code Documentation and Review Activity\n",
    "- Portfolio Preparation; Testing and Reflection\n",
    "- Summary and Next Steps\n",
    "\n",
    "---\n",
    "\n",
    "## [1] Environment Setup (Python & PyTorch)"
   ]
  },
  {
   "cell_type": "code",
   "execution_count": null,
   "id": "62d95f8d",
   "metadata": {},
   "outputs": [],
   "source": [
    "import torch\n",
    "print(\"PyTorch version:\", torch.__version__)\n",
    "\n",
    "# Check if GPU is available.\n",
    "device = torch.device(\"cuda\" if torch.cuda.is_available() else \"cpu\")\n",
    "print(\"Device selected:\", device)"
   ]
  },
  {
   "cell_type": "markdown",
   "id": "9765eb38",
   "metadata": {},
   "source": [
    "*Instructions; Run this cell to ensure your environment is ready for PyTorch development.*\n",
    "\n",
    "---\n",
    "\n",
    "## [2] PyTorch Tensors: Foundations\n",
    "\n",
    "- Tensors are the primary data structure in PyTorch.\n",
    "- Real-world example; images, time series, tabular data."
   ]
  },
  {
   "cell_type": "code",
   "execution_count": null,
   "id": "8670a1b1",
   "metadata": {},
   "outputs": [],
   "source": [
    "# Create tensors and perform basic operations.\n",
    "a = torch.tensor([2.0, 4.0, 6.0])\n",
    "b = torch.ones(3)\n",
    "sum_ab = a + b\n",
    "\n",
    "print(\"Tensor a:\", a)\n",
    "print(\"Tensor b:\", b)\n",
    "print(\"Sum:\", sum_ab)\n",
    "print(\"Multiplication:\", a * b)"
   ]
  },
  {
   "cell_type": "markdown",
   "id": "6df7567f",
   "metadata": {},
   "source": [
    "*Practical exercise; Create a tensor for a mini batch of 3 images, each 2x2.*\n",
    "\n",
    "---\n",
    "\n",
    "## [3] Autograd Basics; Automatic Differentiation\n",
    "\n",
    "- Autograd supports gradient calculation critical for ML.\n",
    "- Industry link; All neural network training leverages this feature."
   ]
  },
  {
   "cell_type": "code",
   "execution_count": null,
   "id": "36867444",
   "metadata": {},
   "outputs": [],
   "source": [
    "x = torch.tensor(2.0, requires_grad=True)\n",
    "y = x**3 + x**2\n",
    "y.backward()  # Computes gradient\n",
    "\n",
    "print(\"Gradient at x=2:\", x.grad)"
   ]
  },
  {
   "cell_type": "markdown",
   "id": "24ccb781",
   "metadata": {},
   "source": [
    "*Question; Why is setting requires_grad=True important in your ML projects? Document your answer below.*\n",
    "\n",
    "---\n",
    "\n",
    "## [4] Neural Network Module Practice\n",
    "\n",
    "- Define a simple linear model using nn.Module.\n",
    "- Review the class structure for portfolio quality."
   ]
  },
  {
   "cell_type": "code",
   "execution_count": null,
   "id": "e5c7fe5a",
   "metadata": {},
   "outputs": [],
   "source": [
    "import torch.nn as nn\n",
    "\n",
    "class SimpleModel(nn.Module):\n",
    "    def __init__(self):\n",
    "        super().__init__()\n",
    "        self.fc = nn.Linear(2, 1)\n",
    "    def forward(self, x):\n",
    "        return self.fc(x)\n",
    "\n",
    "# Instantiate and inspect model\n",
    "model = SimpleModel()\n",
    "print(model)"
   ]
  },
  {
   "cell_type": "markdown",
   "id": "a0bf1e9f",
   "metadata": {},
   "source": [
    "*Industry tip; Always document your model class using docstrings and comments.*\n",
    "\n",
    "---\n",
    "\n",
    "## [5] Bash & Python Integration for Workflow Automation\n",
    "\n",
    "- Real-world scenario; Downloading a dataset and launching a training script."
   ]
  },
  {
   "cell_type": "code",
   "execution_count": null,
   "id": "0da61de3",
   "metadata": {},
   "outputs": [],
   "source": [
    "%%bash\n",
    "# Bash: Download the iris dataset (Linux/Mac command)\n",
    "wget https://archive.ics.uci.edu/ml/machine-learning-databases/iris/iris.data -O iris.csv"
   ]
  },
  {
   "cell_type": "code",
   "execution_count": null,
   "id": "d18639b7",
   "metadata": {},
   "outputs": [],
   "source": [
    "# Python: Load and inspect the dataset\n",
    "import pandas as pd\n",
    "df = pd.read_csv('iris.csv', header=None)\n",
    "print(df.head())"
   ]
  },
  {
   "cell_type": "markdown",
   "id": "11b2f9bc",
   "metadata": {},
   "source": [
    "*Exercise; Write a Bash script to create a backup of your Jupyter notebook using cp.*\n",
    "\n",
    "---\n",
    "\n",
    "## [6] Best Practice Coding, Documentation, and Review\n",
    "\n",
    "- Use clear comments and docstrings for every function/module.\n",
    "- Example function with documentation:"
   ]
  },
  {
   "cell_type": "code",
   "execution_count": null,
   "id": "eac0ecc0",
   "metadata": {},
   "outputs": [],
   "source": [
    "def normalize_tensor(tensor):\n",
    "    \"\"\"\n",
    "    Normalize a PyTorch tensor to range [0,1].\n",
    "    Args:\n",
    "        tensor (torch.Tensor): Input tensor.\n",
    "    Returns:\n",
    "        torch.Tensor: Normalized tensor.\n",
    "    \"\"\"\n",
    "    return (tensor - tensor.min()) / (tensor.max() - tensor.min())"
   ]
  },
  {
   "cell_type": "markdown",
   "id": "b112d51a",
   "metadata": {},
   "source": [
    "*Portfolio activity; Refactor one of your previous notebooks to include clear docstrings, comments, and versioning notes.*\n",
    "\n",
    "---\n",
    "\n",
    "## [7] Testing & Reflection; Industry-aligned Standards\n",
    "\n",
    "- Validate your code using assertions or test scripts."
   ]
  },
  {
   "cell_type": "code",
   "execution_count": null,
   "id": "3607ac82",
   "metadata": {},
   "outputs": [],
   "source": [
    "test_tensor = torch.tensor([5.0, 10.0])\n",
    "output = normalize_tensor(test_tensor)\n",
    "assert torch.allclose(output, torch.tensor([0.0, 1.0]))"
   ]
  },
  {
   "cell_type": "markdown",
   "id": "5dd728ca",
   "metadata": {},
   "source": [
    "*Reflection; Write 2-3 sentences about the value of testing and documentation in AI/ML model deployment. How does this align with industry expectations?*\n",
    "\n",
    "---\n",
    "\n",
    "## [8] Troubleshooting Guidance\n",
    "\n",
    "- Common errors; Shape mismatches, missing gradients, device errors.\n",
    "    - *Tip; Always check tensor shapes and device assignments in early debug steps.*\n",
    "    - For CUDA errors; confirm GPU availability and move tensors to device with tensor.to(device).\n",
    "\n",
    "---\n",
    "\n",
    "## [9] Peer Review and Portfolio Enhancement\n",
    "\n",
    "- Exchange your notebook with a peer.\n",
    "- Use a checklist; comments, docstrings, logical structure, test coverage.\n",
    "- Provide at least one constructive suggestion.\n",
    "\n",
    "---\n",
    "\n",
    "## [10] Summary and Next Steps\n",
    "\n",
    "- This workshop has reinforced critical PyTorch and workflow skills needed for your portfolio project.\n",
    "- Your updated notebook will form the basis for your first assessment submission.\n",
    "- Next week; deeper focus on documentation, experiment tracking, and workflow automation.\n",
    "\n",
    "---\n",
    "\n",
    "## Reflection Questions\n",
    "\n",
    "- What aspect of PyTorch did you find most challenging, and how did you overcome it?\n",
    "- How would you explain the role of Bash scripting in cloud-based ML workflows to a colleague?\n",
    "- List two ways to ensure your code meets industry documentation standards."
   ]
  }
 ],
 "metadata": {
  "jupytext": {
   "cell_metadata_filter": "-all",
   "main_language": "python",
   "notebook_metadata_filter": "-all"
  }
 },
 "nbformat": 4,
 "nbformat_minor": 5
}
