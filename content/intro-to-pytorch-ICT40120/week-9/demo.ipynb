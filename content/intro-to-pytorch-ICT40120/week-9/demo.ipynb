{
 "cells": [
  {
   "cell_type": "markdown",
   "id": "16491774",
   "metadata": {},
   "source": [
    "# Week 9 Workshop; Implementing Secure Database Access in Scripts\n",
    "\n",
    "## Learning Objectives\n",
    "\n",
    "- Understand the importance of securing credentials and secrets in ML/AI workflows\n",
    "- Learn how to store and manage secrets using Azure Key Vault\n",
    "- Create scripts that securely access a managed database in the cloud\n",
    "- Test, troubleshoot, and verify secure connectivity from cloud compute to database\n",
    "\n",
    "---\n",
    "\n",
    "## Agenda\n",
    "\n",
    "1. Why Secure Credential Management Matters in ML/AI Projects\n",
    "2. Introducing Azure Key Vault for Secret Management\n",
    "3. Step-by-Step; Store and Retrieve Secrets with Key Vault\n",
    "4. Connecting to a Managed Database; Secure Approaches\n",
    "5. Hands-on Practical; Secure Script Demo and Exercise\n",
    "6. Testing, Troubleshooting, and Best Practices\n",
    "7. Reflection and Assessment Questions\n",
    "8. Summary and Next Steps\n",
    "\n",
    "---\n",
    "\n",
    "## 1. Why Secure Credential Management Matters in ML/AI Projects\n",
    "\n",
    "- In production, storing plain-text credentials is unsafe; can lead to data breaches\n",
    "- Many industries require compliance (privacy, auditing, responsible AI)\n",
    "- Proper secret management supports automation and reproducibility in cloud environments\n",
    "\n",
    "---\n",
    "\n",
    "## 2. Introducing Azure Key Vault for Secret Management\n",
    "\n",
    "- Azure Key Vault stores secrets; manages keys and credentials centrally\n",
    "- Access controlled by Azure Active Directory and roles\n",
    "- Common secrets; database passwords, API tokens, ML model keys\n",
    "\n",
    "---\n",
    "\n",
    "## 3. Storing and Retrieving Secrets with Azure Key Vault\n",
    "\n",
    "### Example; Storing a Secret"
   ]
  },
  {
   "cell_type": "code",
   "execution_count": null,
   "id": "111c9ff8",
   "metadata": {},
   "outputs": [],
   "source": [
    "# This is conceptual; actual creation happens via Azure portal or CLI\n",
    "# Example: Storing a database password in Key Vault (Azure CLI)\n",
    "# az keyvault secret set --vault-name \"my-keyvault\" --name \"db-password\" --value \"SuperSecretPassword!\""
   ]
  },
  {
   "cell_type": "markdown",
   "id": "2b26fcd8",
   "metadata": {},
   "source": [
    "- Use Azure CLI, portal, or automation\n",
    "- Assign appropriate permissions to limit who/what can access secrets\n",
    "\n",
    "### Example; Retrieving a Secret in Python"
   ]
  },
  {
   "cell_type": "code",
   "execution_count": null,
   "id": "0c6da47f",
   "metadata": {},
   "outputs": [],
   "source": [
    "from azure.identity import DefaultAzureCredential\n",
    "from azure.keyvault.secrets import SecretClient\n",
    "\n",
    "key_vault_url = \"https://<your-key-vault-name>.vault.azure.net\"\n",
    "secret_name = \"db-password\"\n",
    "\n",
    "# Authenticate using managed identity or service principal\n",
    "credential = DefaultAzureCredential()\n",
    "client = SecretClient(vault_url=key_vault_url, credential=credential)\n",
    "\n",
    "retrieved_secret = client.get_secret(secret_name)\n",
    "db_password = retrieved_secret.value\n",
    "\n",
    "print(\"Database password accessed securely from Key Vault.\")"
   ]
  },
  {
   "cell_type": "markdown",
   "id": "516a821d",
   "metadata": {},
   "source": [
    "---\n",
    "\n",
    "## 4. Connecting to a Managed Database; Secure Approaches\n",
    "\n",
    "- Managed databases (Azure SQL, PostgreSQL, MySQL) are preferred for reliability and auditing\n",
    "- Fetch secrets at runtime; avoid hardcoded credentials\n",
    "- Use environment variables and connection strings for portability\n",
    "\n",
    "### Example Setup"
   ]
  },
  {
   "cell_type": "code",
   "execution_count": null,
   "id": "fcb6382e",
   "metadata": {},
   "outputs": [],
   "source": [
    "import os\n",
    "import psycopg2  # For PostgreSQL\n",
    "\n",
    "db_user = os.getenv(\"DB_USER\")\n",
    "db_pass = db_password  # Fetched securely\n",
    "db_host = os.getenv(\"DB_HOST\")\n",
    "db_name = os.getenv(\"DB_NAME\")\n",
    "\n",
    "# Build the connection string securely\n",
    "conn_str = f\"dbname={db_name} user={db_user} password={db_pass} host={db_host}\"\n",
    "\n",
    "conn = psycopg2.connect(conn_str)\n",
    "print(\"Database connection established securely.\")"
   ]
  },
  {
   "cell_type": "markdown",
   "id": "1b504c94",
   "metadata": {},
   "source": [
    "---\n",
    "\n",
    "## 5. Hands-on Practical; Secure Script Demo and Exercise\n",
    "\n",
    "**Task Guidelines**\n",
    "- Each student will; \n",
    "  - Retrieve a test secret from Azure Key Vault using Python\n",
    "  - Inject secret as an environment variable into a script\n",
    "  - Connect securely to a sample managed database (provided by instructor or using Azure free tier)\n",
    "\n",
    "**Exercise Steps (Use dummy/test details if needed)**\n",
    "1. Follow template Python notebook; update vault and secret names\n",
    "2. Authenticate using DefaultAzureCredential (works from Azure VMs or with service principal locally)\n",
    "3. Print secret (simulated password) using script\n",
    "4. Establish DB connection (simulate using sqlite3 if real database is not possible)\n",
    "5. Log and verify connection result; never print passwords to logs\n",
    "\n",
    "---\n",
    "\n",
    "## 6. Testing, Troubleshooting, and Best Practices\n",
    "\n",
    "- **Test** your script using invalid credentials; verify access control works as expected\n",
    "- **Troubleshoot**; Check Key Vault access policies, role assignments, and environment config\n",
    "- **Best Practices**\n",
    "  - Never store credentials in code or git\n",
    "  - Use environment variables and Key Vault for secret management\n",
    "  - Rotate secrets regularly; monitor access logs\n",
    "  - Handle connection errors gracefully in scripts\n",
    "\n",
    "---\n",
    "\n",
    "## 7. Reflection and Assessment Questions\n",
    "\n",
    "- Why is it important to avoid hardcoded database credentials in scripts?\n",
    "- What steps would you take to rotate secrets in a production ML environment?\n",
    "- How does Azure Key Vault integrate with MLOps pipelines?\n",
    "\n",
    "---\n",
    "\n",
    "## 8. Summary and Next Steps\n",
    "\n",
    "- Today you practiced storing/retrieving secrets with Azure Key Vault and making secure DB connections\n",
    "- These skills are essential for responsible, production-worthy ML/AI applications\n",
    "- Next week; Apply PyTorch foundational skills in your first major project, building upon your ability to manage secrets and connections in real workflows\n",
    "\n",
    "---\n",
    "\n",
    "### Appendix: Simulated Local Exercise (For students without cloud access)\n",
    "\n",
    "If Azure or managed DBs are unavailable, simulate with `os.environ` and `sqlite3`:"
   ]
  },
  {
   "cell_type": "code",
   "execution_count": null,
   "id": "3cdbb93e",
   "metadata": {},
   "outputs": [],
   "source": [
    "import os\n",
    "import sqlite3\n",
    "\n",
    "os.environ[\"DB_PASSWORD\"] = \"DummyPassword123\"\n",
    "db_pass = os.getenv(\"DB_PASSWORD\")\n",
    "conn = sqlite3.connect(\":memory:\")  # Ephemeral in-memory DB\n",
    "\n",
    "print(\"Simulated database connection established with secure password handling.\")"
   ]
  },
  {
   "cell_type": "markdown",
   "id": "35d8380a",
   "metadata": {},
   "source": [
    "---"
   ]
  }
 ],
 "metadata": {
  "jupytext": {
   "cell_metadata_filter": "-all",
   "main_language": "python",
   "notebook_metadata_filter": "-all"
  }
 },
 "nbformat": 4,
 "nbformat_minor": 5
}
