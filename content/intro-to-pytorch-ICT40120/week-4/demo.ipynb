{
 "cells": [
  {
   "cell_type": "markdown",
   "id": "fabff15f",
   "metadata": {},
   "source": [
    "# Week 4 Demo: Setting Up Your First ML Git Repository\n",
    "\n",
    "---\n",
    "\n",
    "## Learning Objectives\n",
    "\n",
    "- Understand the role and advantages of version control in ML/AI projects and HPC environments.\n",
    "- Initialize a new Git repository; make your first commits; push to a remote repo.\n",
    "- Apply standard organisational coding standards including documentation, code structure, and policies.\n",
    "- Practice real-world collaboration scenarios and resolve basic merge/branch issues.\n",
    "- Prepare for industry workflows with best practices and troubleshooting tips.\n",
    "\n",
    "---\n",
    "\n",
    "## 1. Why Version Control Matters in Machine Learning\n",
    "\n",
    "- Ensures your code is trackable and reproducible; critical for ML model integrity and compliance.\n",
    "- Facilitates team collaboration by managing changes and tracking experiments.\n",
    "- Required for most industry MLOps pipelines, model versioning, and audits.\n",
    "\n",
    "**Discussion**  \n",
    "- What happens when code or model files change and you don’t know what/why?  \n",
    "- How could this affect a government or industry AI deployment?\n",
    "\n",
    "---\n",
    "\n",
    "## 2. Step-by-Step: Initialize Your Git Repository\n",
    "\n",
    "**Activity**  \n",
    "Follow these steps to create your own ML project repository.\n",
    "\n",
    "### 2.1. Prepare Your Workspace\n",
    "\n",
    "- Open a terminal and navigate to your ML project directory or create one"
   ]
  },
  {
   "cell_type": "code",
   "execution_count": null,
   "id": "556d994d",
   "metadata": {},
   "outputs": [],
   "source": [
    "mkdir my_ml_project\n",
    "cd my_ml_project"
   ]
  },
  {
   "cell_type": "markdown",
   "id": "c2ad7baf",
   "metadata": {},
   "source": [
    "### 2.2. Initialize a Git Repository\n",
    "\n",
    "- Start local version control"
   ]
  },
  {
   "cell_type": "code",
   "execution_count": null,
   "id": "f47b29c5",
   "metadata": {},
   "outputs": [],
   "source": [
    "git init"
   ]
  },
  {
   "cell_type": "markdown",
   "id": "333700b5",
   "metadata": {},
   "source": [
    "### 2.3. Add Your Scripts\n",
    "\n",
    "- Create a basic script file; use clear naming and initial docstring to match standards"
   ]
  },
  {
   "cell_type": "code",
   "execution_count": null,
   "id": "7a2b2d70",
   "metadata": {},
   "outputs": [],
   "source": [
    "%%python\n",
    "# example script: basic_data_loader.py\n",
    "\"\"\"\n",
    "Purpose. Load sample data and print summary stats for project initial test.\n",
    "Author. Your Name (your.email@example.com)\n",
    "Date. YYYY-MM-DD\n",
    "\"\"\"\n",
    "\n",
    "import pandas as pd\n",
    "\n",
    "def main():\n",
    "    print('This script loads data and prints stats.')\n",
    "\n",
    "if __name__ == \"__main__\":\n",
    "    main()"
   ]
  },
  {
   "cell_type": "markdown",
   "id": "752404f5",
   "metadata": {},
   "source": [
    "- Stage and commit your script"
   ]
  },
  {
   "cell_type": "code",
   "execution_count": null,
   "id": "cfeadea2",
   "metadata": {},
   "outputs": [],
   "source": [
    "git add basic_data_loader.py\n",
    "git commit -m \"Initial commit. Added basic data loader script.\""
   ]
  },
  {
   "cell_type": "markdown",
   "id": "92417cc5",
   "metadata": {},
   "source": [
    "### 2.4. Connect to a Remote Repository (e.g., GitHub/Azure DevOps)\n",
    "\n",
    "- On your platform, create a new repository with the same name.\n",
    "- Connect with:"
   ]
  },
  {
   "cell_type": "code",
   "execution_count": null,
   "id": "b0ee8373",
   "metadata": {},
   "outputs": [],
   "source": [
    "git remote add origin https://github.com/your-username/my_ml_project.git\n",
    "git push -u origin master"
   ]
  },
  {
   "cell_type": "markdown",
   "id": "8652853b",
   "metadata": {},
   "source": [
    "---\n",
    "\n",
    "## 3. Organisational Coding Standards and Repository Structure\n",
    "\n",
    "- Every repo must have a clear structure; include at minimum\n",
    "  - README.md; explains project, dependencies, and usage\n",
    "  - src/ or scripts/; stores code scripts, one task per file\n",
    "  - data/; placeholder or note (never push large data!)\n",
    "  - .gitignore; excludes sensitive or clutter files (e.g. data/, .env, *.pyc files)\n",
    "\n",
    "### 3.1. Example .gitignore"
   ]
  },
  {
   "cell_type": "code",
   "execution_count": null,
   "id": "9faabcfd",
   "metadata": {},
   "outputs": [],
   "source": [
    "# Ignore data and environment files\n",
    "data/\n",
    "*.csv\n",
    "*.env\n",
    "__pycache__/"
   ]
  },
  {
   "cell_type": "markdown",
   "id": "a094d3e8",
   "metadata": {},
   "source": [
    "### 3.2. Example README.md Structure\n",
    "\n",
    "```\n",
    "# Project Name\n",
    "\n",
    "Summary; Short project description and goal\n",
    "\n",
    "Project Structure; Briefly describe folder and file structure\n",
    "\n",
    "How to Run; Commands or steps to execute scripts\n",
    "\n",
    "Author and Contact; Your name and contact email\n",
    "```\n",
    "\n",
    "---\n",
    "\n",
    "## 4. Working as a Team: Branches, Pull, and Merge\n",
    "\n",
    "**Scenario Exercise**  \n",
    "- You and a classmate edit the same script. Use branches to manage changes.\n",
    "\n",
    "### 4.1. Create a Branch and Edit"
   ]
  },
  {
   "cell_type": "code",
   "execution_count": null,
   "id": "9eabacac",
   "metadata": {},
   "outputs": [],
   "source": [
    "git checkout -b feature-add-stats\n",
    "# Make changes to basic_data_loader.py\n",
    "git add basic_data_loader.py\n",
    "git commit -m \"Added basic stats function\"\n",
    "git push -u origin feature-add-stats"
   ]
  },
  {
   "cell_type": "markdown",
   "id": "e778a6ff",
   "metadata": {},
   "source": [
    "- Open a Pull Request (PR) on your platform; review and merge.\n",
    "\n",
    "**Common Pitfalls**\n",
    "- Merge conflicts happen when two changes overlap; Git will alert and ask you to edit before merging.\n",
    "- Always pull latest (`git pull`) before making big changes.\n",
    "\n",
    "---\n",
    "\n",
    "## 5. Industry Practices and Assessment Preparation\n",
    "\n",
    "- Professionals must follow agreed code style, documentation, and commit message policies.\n",
    "- All scripts should have clear docstrings, purpose, and author details.\n",
    "- Ensure all group work demonstrates standards and can be reviewed or audited.\n",
    "\n",
    "---\n",
    "\n",
    "## 6. Hands-on Challenges and Reflection\n",
    "\n",
    "**Practical Challenges**\n",
    "- Clone a provided template repo; set up your own branch; add a script and push changes.\n",
    "- Update the README to reflect your changes.\n",
    "- Review a classmate’s Pull Request or branch.\n",
    "\n",
    "**Discussion**\n",
    "- Share an experience you’ve had with code or file loss. How would version control have helped?\n",
    "- How does this workflow directly connect to industry MLOps, model tracking, and responsible AI?\n",
    "\n",
    "---\n",
    "\n",
    "## 7. Troubleshooting and Best Practices\n",
    "\n",
    "- If you accidentally committed sensitive data, remove with `git rm` and amend history with care.\n",
    "- Use `git status` and `git log` often to check your work.\n",
    "- Always document your changes and reasons in commit messages.\n",
    "\n",
    "---\n",
    "\n",
    "## 8. Summary and Next Steps\n",
    "\n",
    "- By following coding standards and version control, you set the foundation for scalable and professional AI/ML projects.\n",
    "- Practice these skills for all scripts and assignments going forward.\n",
    "- Review key links; GitHub guides, internal standards, and TAFE assessment rubrics.\n",
    "\n",
    "---\n",
    "\n",
    "**Preparation for Next Week**\n",
    "- Set up new repos for PyTorch workshops.\n",
    "- Practice pushing updates and collaborating via Pull Requests."
   ]
  }
 ],
 "metadata": {
  "jupytext": {
   "cell_metadata_filter": "-all",
   "main_language": "bash",
   "notebook_metadata_filter": "-all"
  }
 },
 "nbformat": 4,
 "nbformat_minor": 5
}
