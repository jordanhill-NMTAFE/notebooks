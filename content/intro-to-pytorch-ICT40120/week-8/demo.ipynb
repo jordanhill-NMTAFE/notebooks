{
 "cells": [
  {
   "cell_type": "markdown",
   "id": "d9cb49ae",
   "metadata": {},
   "source": [
    "# Week 8 Practical Lab: Azure Networking and Storage for Scalable AI Workflows\n",
    "\n",
    "## Learning Objectives\n",
    "\n",
    "- Understand the purpose and structure of virtual networks and storage in Azure for ML workloads.\n",
    "- Design and deploy a simple virtual network to support AI resources and data movement.\n",
    "- Configure cloud storage, mount persistent datasets, and validate access from compute resources.\n",
    "- Test connectivity between VMs, storage, and (optionally) a database component in Azure.\n",
    "- Apply troubleshooting skills and interpret diagnostic commands/logs relevant to cloud networking and storage.\n",
    "\n",
    "---\n",
    "\n",
    "## 1. Introduction and Industry Context\n",
    "\n",
    "As ML Engineers and Cloud AI Developers, building robust, secure, and scalable networked environments is critical. This week we'll simulate the setup of a cloud infrastructure that supports high-performance machine learning workflows on Azure, focusing on networking and storage—key areas that underpin modern ML production. You'll gain practical experience setting up the environment exactly as you might in a tech company or government data science team.\n",
    "\n",
    "---\n",
    "\n",
    "## 2. Lab Scenario\n",
    "\n",
    "You have been tasked to support an ML development team by provisioning:\n",
    "- A secure, isolated virtual network for compute resources;\n",
    "- A cloud storage account for datasets and outputs;\n",
    "- Configuration to allow virtual machines (VMs) to read/write to storage with minimal latency and the correct access controls.\n",
    "\n",
    "---\n",
    "\n",
    "## 3. Step-by-Step Lab Instructions\n",
    "\n",
    "### 3.1. Lab Setup; Prerequisites\n",
    "\n",
    "- Ensure you have access to an Azure account and permissions to create/manage resources.\n",
    "- Install **Azure CLI** locally or use Azure Cloud Shell.\n",
    "- Make sure your resource group and region are chosen (substitute your values in command examples).\n",
    "\n",
    "---\n",
    "\n",
    "### 3.2. Create a Resource Group"
   ]
  },
  {
   "cell_type": "code",
   "execution_count": null,
   "id": "ab98fe10",
   "metadata": {
    "lines_to_next_cell": 0
   },
   "outputs": [],
   "source": [
    "# Replace with your unique resource group name and preferred region\n",
    "az group create --name ml-lab-rg --location australiaeast"
   ]
  },
  {
   "cell_type": "markdown",
   "id": "3aad54e0",
   "metadata": {},
   "source": [
    "- Creates a container for all resources deployed in this lab.\n",
    "\n",
    "---\n",
    "\n",
    "### 3.3. Design and Deploy a Virtual Network with a Subnet\n",
    "\n",
    "- A virtual network (VNet) allows secure, private communication between Azure resources."
   ]
  },
  {
   "cell_type": "code",
   "execution_count": null,
   "id": "c1c6f671",
   "metadata": {
    "lines_to_next_cell": 0
   },
   "outputs": [],
   "source": [
    "az network vnet create \\\n",
    "  --resource-group ml-lab-rg \\\n",
    "  --name ml-vnet \\\n",
    "  --address-prefix 10.1.0.0/16 \\\n",
    "  --subnet-name compute-subnet \\\n",
    "  --subnet-prefix 10.1.1.0/24"
   ]
  },
  {
   "cell_type": "markdown",
   "id": "cce01dde",
   "metadata": {},
   "source": [
    "- VNet design allows you to control IP ranges, isolation, and security. Subnets can be created for compute, storage, and database workloads.\n",
    "\n",
    "---\n",
    "\n",
    "### 3.4. Deploy a Storage Account\n",
    "\n",
    "- Used to persist ML datasets, model artifacts, checkpoints, and logs."
   ]
  },
  {
   "cell_type": "code",
   "execution_count": null,
   "id": "c870c14d",
   "metadata": {
    "lines_to_next_cell": 0
   },
   "outputs": [],
   "source": [
    "az storage account create \\\n",
    "  --name mllabstorage$RANDOM \\\n",
    "  --resource-group ml-lab-rg \\\n",
    "  --location australiaeast \\\n",
    "  --sku Standard_LRS \\\n",
    "  --kind StorageV2"
   ]
  },
  {
   "cell_type": "markdown",
   "id": "4a1795f4",
   "metadata": {},
   "source": [
    "- StorageV2 supports blobs, files, tables, and queues; Standard_LRS ensures redundancy within the region.\n",
    "\n",
    "---\n",
    "\n",
    "### 3.5. Create a File Share in the Storage Account\n",
    "\n",
    "- File shares support persistent, POSIX-compatible datasets that VMs can access."
   ]
  },
  {
   "cell_type": "code",
   "execution_count": null,
   "id": "18626d6e",
   "metadata": {},
   "outputs": [],
   "source": [
    "az storage share-rm create \\\n",
    "  --storage-account mllabstorage1234 \\\n",
    "  --resource-group ml-lab-rg \\\n",
    "  --name datasets"
   ]
  },
  {
   "cell_type": "markdown",
   "id": "68cd154d",
   "metadata": {},
   "source": [
    "---\n",
    "\n",
    "### 3.6. Deploy a Virtual Machine into the Network\n",
    "\n",
    "- Example uses Ubuntu for compatibility with ML tooling."
   ]
  },
  {
   "cell_type": "code",
   "execution_count": null,
   "id": "aee1b05d",
   "metadata": {
    "lines_to_next_cell": 0
   },
   "outputs": [],
   "source": [
    "az vm create \\\n",
    "  --resource-group ml-lab-rg \\\n",
    "  --name mlcompute01 \\\n",
    "  --image Ubuntu2204 \\\n",
    "  --vnet-name ml-vnet \\\n",
    "  --subnet compute-subnet \\\n",
    "  --public-ip-address '' \\\n",
    "  --size Standard_DS2_v2 \\\n",
    "  --admin-username azureuser \\\n",
    "  --generate-ssh-keys"
   ]
  },
  {
   "cell_type": "markdown",
   "id": "96abbf2c",
   "metadata": {
    "lines_to_next_cell": 0
   },
   "source": [
    "- No public IP is assigned for improved security (simulate enterprise best practice).\n",
    "\n",
    "---\n",
    "\n",
    "### 3.7. Mount the Azure File Share on the VM\n",
    "\n",
    "- After VM deployment, connect via SSH from the Cloud Shell or a jump box within the VNet.\n",
    "\n",
    "**On the VM, install required utilities:**"
   ]
  },
  {
   "cell_type": "code",
   "execution_count": null,
   "id": "8b5324dd",
   "metadata": {},
   "outputs": [],
   "source": [
    "sudo apt-get update\n",
    "sudo apt-get install cifs-utils -y"
   ]
  },
  {
   "cell_type": "markdown",
   "id": "083399b9",
   "metadata": {},
   "source": [
    "**Mount the file share:**\n",
    "- Retrieve the storage account key (replace `<your-storage-account>`):"
   ]
  },
  {
   "cell_type": "code",
   "execution_count": null,
   "id": "10d37485",
   "metadata": {},
   "outputs": [],
   "source": [
    "STORAGE_KEY=$(az storage account keys list --resource-group ml-lab-rg --account-name mllabstorage1234 --query [0].value -o tsv)\n",
    "sudo mkdir /mnt/datasets\n",
    "sudo mount -t cifs //mllabstorage1234.file.core.windows.net/datasets /mnt/datasets \\\n",
    "  -o vers=3.0,username=mllabstorage1234,password=$STORAGE_KEY,dir_mode=0777,file_mode=0777,serverino"
   ]
  },
  {
   "cell_type": "markdown",
   "id": "985fe218",
   "metadata": {
    "lines_to_next_cell": 0
   },
   "source": [
    "- **Test read/write to mounted directory:**"
   ]
  },
  {
   "cell_type": "code",
   "execution_count": null,
   "id": "36a26b5a",
   "metadata": {},
   "outputs": [],
   "source": [
    "echo \"hello from ml VM\" | sudo tee /mnt/datasets/testfile.txt\n",
    "cat /mnt/datasets/testfile.txt"
   ]
  },
  {
   "cell_type": "markdown",
   "id": "92344022",
   "metadata": {},
   "source": [
    "---\n",
    "\n",
    "### 3.8. (Optional) Test Network Access Between Compute, Storage, and a Database\n",
    "\n",
    "- Deploy an Azure Database (e.g., PostgreSQL) in the same VNet and test connectivity. Review firewall rules and required VNet integration steps.\n",
    "\n",
    "---\n",
    "\n",
    "## 4. Troubleshooting Tips\n",
    "\n",
    "- Use `az network vnet list` and `az vm list-ip-addresses` to verify network configuration.\n",
    "- For storage issues, check keys/permissions, and review mount options for syntax errors.\n",
    "- Use `ping`, `telnet`, and `nslookup` inside VMs to diagnose network routing or DNS issues.\n",
    "- Consult Azure Activity Log for audit and diagnostic messages.\n",
    "\n",
    "---\n",
    "\n",
    "## 5. Real-World Case Study\n",
    "\n",
    "*Scenario*: A data science team needs to share large training datasets between compute VMs running PyTorch scripts and wants high availability, security, and compliance. By using VNets, Azure Files, and controlling access via private endpoints, your solution mirrors enterprise practices in finance, healthcare, and government AI applications.\n",
    "\n",
    "---\n",
    "\n",
    "## 6. Reflective Questions\n",
    "\n",
    "- What are the main security advantages of placing all resources inside a VNet?\n",
    "- Why is mounting storage using Azure Files preferred for ML workloads over downloading datasets locally?\n",
    "- How would you modify the design for higher resilience or scale (e.g., using multiple subnets, network security groups, or geo-redundancy)?\n",
    "- Can you see parallels between this workflow and automation/script development covered in weeks 2-4?\n",
    "\n",
    "---\n",
    "\n",
    "## 7. Summary and Next Steps\n",
    "\n",
    "* You have designed and deployed practical Azure networking and storage components.\n",
    "* These skills underpin building and scaling AI/ML workflows in a cloud environment.\n",
    "* Next week: secure database integration and secret management for ML workflows.\n",
    "\n",
    "---\n",
    "\n",
    "## 8. Challenge Exercise\n",
    "\n",
    "- Modify the above workflow to create a second subnet for database resources. Deploy a managed database and allow only the compute subnet to access it.\n",
    "- Write a Bash script to automate the file share mounting process for multiple compute VMs."
   ]
  }
 ],
 "metadata": {
  "jupytext": {
   "cell_metadata_filter": "-all",
   "main_language": "bash",
   "notebook_metadata_filter": "-all"
  }
 },
 "nbformat": 4,
 "nbformat_minor": 5
}
