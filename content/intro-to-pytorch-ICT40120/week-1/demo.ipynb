{
 "cells": [
  {
   "cell_type": "markdown",
   "id": "94b0af11",
   "metadata": {},
   "source": [
    "# Week 1 Demo: Python Scripting for ML - A Simple Workflow\n",
    "\n",
    "## Learning Objectives\n",
    "- Understand the course structure and expectations for Machine Learning Engineering and AI workflows.\n",
    "- Review fundamental Python scripting concepts for use in ML applications.\n",
    "- Demonstrate a complete mini ML workflow using Python, including data loading, model creation (stub), and output of results.\n",
    "- Recognise the relevance of scripting in practical AI/ML industry contexts.\n",
    "\n",
    "---\n",
    "\n",
    "## Agenda\n",
    "\n",
    "1. Course introduction and orientation; discuss industry context and learning goals.\n",
    "2. Refresher on Python scripting essentials for ML.\n",
    "3. Guided demo; build and run a simple end-to-end ML script in Python.\n",
    "4. Discuss industry applications and real-world relevance.\n",
    "5. Summary, key takeaways, and next steps.\n",
    "\n",
    "---\n",
    "\n",
    "## 1. Course Orientation and Industry Context\n",
    "\n",
    "- This course develops your skills in PyTorch, cloud computing, and ML workflows using Python.\n",
    "- Applied focus prepares you for roles such as AI Developer or ML Engineer in modern tech environments.\n",
    "- Industry tools featured include Python, PyTorch, Azure, Bash, and High Performance Computing (HPC) best practices.\n",
    "- Scripting is essential in automating, deploying, and scaling ML projects in real workplaces, where Python remains the core language used by professionals.\n",
    "\n",
    "---\n",
    "\n",
    "## 2. Python Scripting Essentials for ML\n",
    "\n",
    "- Scripts are reusable, shareable, and essential for automating ML processes; every ML engineer must fluently create and modify Python scripts.\n",
    "- Core Python skills needed; working with data types, lists, dictionaries, control flow, functions, and basic file I/O.\n",
    "- Review: Define a function, load data, perform a calculation, and print results."
   ]
  },
  {
   "cell_type": "code",
   "execution_count": null,
   "id": "577272d4",
   "metadata": {},
   "outputs": [],
   "source": [
    "# Example\n",
    "def greet(name):\n",
    "    print(f\"Hello, {name}! Welcome to the ML course.\")\n",
    "\n",
    "greet(\"Student\")"
   ]
  },
  {
   "cell_type": "markdown",
   "id": "6007e819",
   "metadata": {},
   "source": [
    "---\n",
    "\n",
    "## 3. Guided Demo: End-to-End Mini ML Workflow\n",
    "\n",
    "This practical exercise walks you through:\n",
    "- Loading a simple dataset using Python and a common ML library\n",
    "- Creating a model placeholder (\"stub\") to illustrate the pipeline\n",
    "- Outputting basic results to show workflow completion\n",
    "\n",
    "### Step 1: Data Loading\n",
    "\n",
    "- Simulate loading a CSV (e.g. exam scores data); Use pandas for simplicity"
   ]
  },
  {
   "cell_type": "code",
   "execution_count": null,
   "id": "fdb8263e",
   "metadata": {},
   "outputs": [],
   "source": [
    "import pandas as pd\n",
    "\n",
    "# Sample data creation (would normally be loaded from a file)\n",
    "data = {'student': ['Alice','Bob','Charlie'], 'score': [85, 90, 78]}\n",
    "df = pd.DataFrame(data)\n",
    "\n",
    "print(\"Sample Data:\")\n",
    "print(df)"
   ]
  },
  {
   "cell_type": "markdown",
   "id": "1efc2482",
   "metadata": {},
   "source": [
    "### Step 2: Model Creation (Stub)\n",
    "\n",
    "- For now, create a simple function as a stand-in for a real ML model\n",
    "- In industry, this might be a PyTorch or scikit-learn model class"
   ]
  },
  {
   "cell_type": "code",
   "execution_count": null,
   "id": "84ad1a80",
   "metadata": {},
   "outputs": [],
   "source": [
    "def model_stub(input_scores):\n",
    "    # Pretend model simply classifies as 'pass' or 'fail' based on score\n",
    "    return ['pass' if score >= 80 else 'fail' for score in input_scores]\n",
    "\n",
    "results = model_stub(df['score'])\n",
    "df['result'] = results\n",
    "\n",
    "print(\"With Results:\")\n",
    "print(df)"
   ]
  },
  {
   "cell_type": "markdown",
   "id": "cdcd8a6f",
   "metadata": {},
   "source": [
    "### Step 3: Output Results\n",
    "\n",
    "- Save results to a new CSV file; Output a summary to the console"
   ]
  },
  {
   "cell_type": "code",
   "execution_count": null,
   "id": "39a86c86",
   "metadata": {},
   "outputs": [],
   "source": [
    "df.to_csv('results.csv', index=False)\n",
    "print(\"Results saved to results.csv\")\n",
    "print(\"Summary:\")\n",
    "print(df['result'].value_counts())"
   ]
  },
  {
   "cell_type": "markdown",
   "id": "cc6a146d",
   "metadata": {},
   "source": [
    "---\n",
    "\n",
    "## 4. Industry Application and Best Practices\n",
    "\n",
    "- Scripting automates repetitive tasks in model development and deployment workflows; saves time and reduces errors.\n",
    "- In real projects, you would extend scripts for data validation, pre-processing, experiment tracking, and cloud automation.\n",
    "- Example scenario; A government department builds scripts to automate student performance analytics on scalable cloud VMs.\n",
    "- As best practice, always document your scripts with comments and README files for team use.\n",
    "\n",
    "---\n",
    "\n",
    "## 5. Practice Activity\n",
    "\n",
    "Try modifying the workflow:\n",
    "- Add an extra column for 'grade' based on score bands (e.g. A, B, C)\n",
    "- Change the model_stub to assign grades instead of just pass/fail\n",
    "- Print out students who achieved the highest and lowest grades"
   ]
  },
  {
   "cell_type": "code",
   "execution_count": null,
   "id": "8e97ab01",
   "metadata": {},
   "outputs": [],
   "source": [
    "def assign_grade(score):\n",
    "    if score >= 90:\n",
    "        return 'A'\n",
    "    elif score >= 80:\n",
    "        return 'B'\n",
    "    elif score >= 70:\n",
    "        return 'C'\n",
    "    else:\n",
    "        return 'D'\n",
    "\n",
    "df['grade'] = df['score'].apply(assign_grade)\n",
    "print(df)\n",
    "\n",
    "print(\"Top performer:\")\n",
    "print(df[df['score'] == df['score'].max()])\n",
    "\n",
    "print(\"Lowest performer:\")\n",
    "print(df[df['score'] == df['score'].min()])"
   ]
  },
  {
   "cell_type": "markdown",
   "id": "0433bfd6",
   "metadata": {},
   "source": [
    "---\n",
    "\n",
    "## 6. Reflection and Discussion\n",
    "\n",
    "- Why is scripting seen as foundational to ML engineering in top tech firms?\n",
    "- How might automating a workflow like this improve team productivity or reduce human mistakes?\n",
    "- What challenges might arise in real-world scripts versus this simple example?\n",
    "\n",
    "---\n",
    "\n",
    "## Summary and Next Steps\n",
    "\n",
    "- Today you built a complete mini ML workflow script in Python; practiced data loading, model logic, and output.\n",
    "- Next week, you will apply scripting skills to cloud environments using Bash.\n",
    "- Homework: Review Python basics if needed; Try adapting today's script for a new dataset (weather, sales, etc.) and share your code in class.\n",
    "- Remember; In industry, strong scripting habits form the backbone of all advanced AI and ML systems."
   ]
  }
 ],
 "metadata": {
  "jupytext": {
   "cell_metadata_filter": "-all",
   "main_language": "python",
   "notebook_metadata_filter": "-all"
  }
 },
 "nbformat": 4,
 "nbformat_minor": 5
}
