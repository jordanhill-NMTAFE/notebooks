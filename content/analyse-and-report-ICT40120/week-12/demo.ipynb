{
 "cells": [
  {
   "cell_type": "markdown",
   "id": "31dee471",
   "metadata": {},
   "source": [
    "# Week 12 Workshop: Constructing and Documenting a Reproducible EDA Pipeline\n",
    "\n",
    "## Learning Objectives\n",
    "- Identify essential components of a transparent, reproducible EDA pipeline using Jupyter Notebooks\n",
    "- Implement a simple, industry-standard data processing workflow for an open dataset\n",
    "- Practice documenting every pipeline step for clarity, reproducibility, and compliance with workplace expectations\n",
    "\n",
    "---\n",
    "\n",
    "## 1. Setup and Introduction\n",
    "\n",
    "This workshop prepares you to construct a transparent data analysis pipeline using Jupyter Notebooks. You will use open datasets and industry tools, including pandas, numpy, matplotlib, and markdown documentation. Reproducibility and documentation are key skills for AI/data science project submissions and real-world workflows.\n",
    "\n",
    "---\n",
    "\n",
    "## 2. Getting Started: Environment and Dataset\n",
    "\n",
    "- Install required packages using pip; example; `pandas`, `numpy`, `matplotlib`, `seaborn`\n",
    "- Download a small open dataset (e.g., UCI Iris or Titanic dataset) for demonstration\n",
    "- Set up your Jupyter Notebook with a clear title, author block, and project metadata at the top"
   ]
  },
  {
   "cell_type": "code",
   "execution_count": null,
   "id": "0455a519",
   "metadata": {},
   "outputs": [],
   "source": [
    "# Import standard libraries\n",
    "import pandas as pd\n",
    "import numpy as np\n",
    "import matplotlib.pyplot as plt\n",
    "import seaborn as sns"
   ]
  },
  {
   "cell_type": "markdown",
   "id": "fe957200",
   "metadata": {},
   "source": [
    "---\n",
    "\n",
    "## 3. Stepwise Pipeline Design\n",
    "\n",
    "Each step includes documentation in markdown and clear, versioned code cells.\n",
    "\n",
    "### 3.1 Data Loading\n",
    "\n",
    "- Load the dataset and describe your data source in markdown\n",
    "- Use explicit file paths or notebook downloads for reproducibility"
   ]
  },
  {
   "cell_type": "code",
   "execution_count": null,
   "id": "1ce38a51",
   "metadata": {},
   "outputs": [],
   "source": [
    "# Load iris dataset from seaborn for simplicity\n",
    "df = sns.load_dataset('iris')\n",
    "df.head()"
   ]
  },
  {
   "cell_type": "markdown",
   "id": "bfc2fdbe",
   "metadata": {},
   "source": [
    "---\n",
    "\n",
    "### 3.2 Data Exploration and Initial Documentation\n",
    "\n",
    "- Summarize dataset features; note column names, missing values, data types\n",
    "- Record assumptions and describe findings in a markdown cell"
   ]
  },
  {
   "cell_type": "code",
   "execution_count": null,
   "id": "b2643a92",
   "metadata": {},
   "outputs": [],
   "source": [
    "# Basic info and missing value check\n",
    "print(df.info())\n",
    "print(df.isnull().sum())"
   ]
  },
  {
   "cell_type": "markdown",
   "id": "e7fe55e4",
   "metadata": {},
   "source": [
    "---\n",
    "\n",
    "### 3.3 Data Cleaning and Preprocessing\n",
    "\n",
    "- Perform and document any data cleaning steps; e.g., handle missing values, encode categories\n",
    "- Use versioned code cells; explain each cleaning step"
   ]
  },
  {
   "cell_type": "code",
   "execution_count": null,
   "id": "ab085bf5",
   "metadata": {},
   "outputs": [],
   "source": [
    "# Check for missing values and handle if needed\n",
    "df_clean = df.dropna()"
   ]
  },
  {
   "cell_type": "markdown",
   "id": "4fc7b6a5",
   "metadata": {},
   "source": [
    "Markdown explanation; In this step, all missing observations are removed for consistency. Other strategies such as imputation could also be considered.\n",
    "\n",
    "---\n",
    "\n",
    "### 3.4 Exploratory Data Analysis (EDA)\n",
    "\n",
    "- Create summary statistics and visualizations; comment on observations in markdown\n",
    "- Demonstrate a reproducible pattern where each figure or table is accompanied by an explanation"
   ]
  },
  {
   "cell_type": "code",
   "execution_count": null,
   "id": "8a0bff92",
   "metadata": {},
   "outputs": [],
   "source": [
    "# Basic statistics\n",
    "df_clean.describe()"
   ]
  },
  {
   "cell_type": "code",
   "execution_count": null,
   "id": "177d130f",
   "metadata": {},
   "outputs": [],
   "source": [
    "# Visualize distribution of species\n",
    "sns.countplot(x='species', data=df_clean)\n",
    "plt.title('Distribution of Iris Species')\n",
    "plt.show()"
   ]
  },
  {
   "cell_type": "markdown",
   "id": "d216c597",
   "metadata": {},
   "source": [
    "Markdown cell; The plot above shows class distribution. This informs us whether our dataset is balanced, which affects model training and evaluation steps.\n",
    "\n",
    "---\n",
    "\n",
    "### 3.5 Saving Results and Documentation\n",
    "\n",
    "- Save processed data to a CSV; encourage use of versioned filenames and directories\n",
    "- Document file outputs and how they fit in a reproducible workflow"
   ]
  },
  {
   "cell_type": "code",
   "execution_count": null,
   "id": "4059a613",
   "metadata": {},
   "outputs": [],
   "source": [
    "# Save cleaned dataset\n",
    "df_clean.to_csv('iris_cleaned_v1.csv', index=False)"
   ]
  },
  {
   "cell_type": "markdown",
   "id": "771205bd",
   "metadata": {},
   "source": [
    "Markdown cell; This output file can be shared or used as input for further modeling stages, ensuring others can trace and reproduce your preprocessing steps.\n",
    "\n",
    "---\n",
    "\n",
    "## 4. Best Practices; Documentation and Versioning\n",
    "\n",
    "- Place explanations before/after each code block\n",
    "- Use bullet lists to document pipeline assumptions, challenges, and changes\n",
    "- Comment code clearly and consistently\n",
    "- Track file versions and updates in a project changelog in markdown\n",
    "\n",
    "Example markdown cell;\n",
    "- All transformations documented above\n",
    "- Dataset saved with version control\n",
    "- All code and analysis reproducible end-to-end\n",
    "- Sources and licensing for datasets cited\n",
    "\n",
    "---\n",
    "\n",
    "## 5. Practical Exercise; Mini Challenge\n",
    "\n",
    "- Using a small open dataset of your choice (e.g., road accidents, Titanic), repeat the process above\n",
    "- Checklist; Load data, clean/preprocess, summarize, visualize, save output, document each step thoroughly\n",
    "- Submit your notebook including markdown documentation, code, and results\n",
    "\n",
    "---\n",
    "\n",
    "## 6. Real-World Scenario\n",
    "\n",
    "Imagine you are working on an AI team tasked with curating training data for a new model. Ensuring your pipeline is transparent and reproducible will;\n",
    "- Support regulatory or audit requirements\n",
    "- Enable colleagues to build upon your work\n",
    "- Allow you to quickly adapt to new discoveries or feedback\n",
    "\n",
    "Reflect; What are the risks if your EDA pipeline is not reproducible?\n",
    "\n",
    "---\n",
    "\n",
    "## 7. Troubleshooting and Tips\n",
    "\n",
    "- Always fix random seeds for reproducibility (e.g., numpy seed)\n",
    "- Note software/library versions at the top of your notebook\n",
    "- Use data versioning tools for large or frequently updated datasets\n",
    "- If results vary on rerun, check for hidden randomness in your code\n",
    "\n",
    "---\n",
    "\n",
    "## 8. Workshop Summary and Next Steps\n",
    "\n",
    "- A reproducible EDA pipeline combines code, markdown, and outputs for transparent workflow\n",
    "- Strong documentation is as important as correct code\n",
    "- Next week; Applying machine learning basics to open datasets, building on your documented pipeline foundations\n",
    "\n",
    "---\n",
    "\n",
    "## Reflection Questions\n",
    "\n",
    "- How does reproducibility benefit your future self and your collaborators?\n",
    "- What is the single most important documentation step in your EDA workflow?\n",
    "- How can you improve your pipeline for real industry use?"
   ]
  }
 ],
 "metadata": {
  "jupytext": {
   "cell_metadata_filter": "-all",
   "main_language": "python",
   "notebook_metadata_filter": "-all"
  }
 },
 "nbformat": 4,
 "nbformat_minor": 5
}
