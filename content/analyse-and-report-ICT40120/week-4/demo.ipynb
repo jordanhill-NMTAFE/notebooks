{
 "cells": [
  {
   "cell_type": "markdown",
   "id": "d64b1026",
   "metadata": {},
   "source": [
    "# Week 4 Demo. First Data Lab. Exploring and Visualizing Data with Python\n",
    "\n",
    "## Learning Objectives\n",
    "\n",
    "- Understand how to load and explore a public open dataset in Python.\n",
    "- Gain practical experience using Jupyter Notebooks for data science workflows.\n",
    "- Learn foundational tools. pandas, numpy, matplotlib, seaborn.\n",
    "- Create basic data visuals and interpret their meaning.\n",
    "- Apply industry-relevant best practices for initial data analysis.\n",
    "\n",
    "---\n",
    "\n",
    "## 1. Introduction and Setup\n",
    "\n",
    "This week we begin hands-on work with real data. You will use practical skills valued by modern AI labs and data-driven companies; loading, exploring, and visualizing open datasets. These tools and workflows are used to analyze, clean, and document the large datasets that drive AI progress.\n",
    "\n",
    "**Setup steps;**\n",
    "\n",
    "- Ensure Anaconda or Miniconda is installed.\n",
    "- Open Anaconda Navigator or use terminal; run `jupyter notebook`.\n",
    "- Start a new notebook; select Python 3.\n",
    "\n",
    "---\n",
    "\n",
    "## 2. Loading an Open Dataset\n",
    "\n",
    "We will use the \"Iris\" dataset from the UCI Machine Learning Repository. This dataset is widely used in AI education and allows us to focus on core data analysis skills."
   ]
  },
  {
   "cell_type": "code",
   "execution_count": null,
   "id": "42e8cea1",
   "metadata": {},
   "outputs": [],
   "source": [
    "import pandas as pd\n",
    "\n",
    "# Load the Iris dataset directly from UCI\n",
    "url = \"https://archive.ics.uci.edu/ml/machine-learning-databases/iris/iris.data\"\n",
    "col_names = [\"sepal_length\", \"sepal_width\", \"petal_length\", \"petal_width\", \"species\"]\n",
    "df = pd.read_csv(url, header=None, names=col_names)\n",
    "\n",
    "df.head()"
   ]
  },
  {
   "cell_type": "markdown",
   "id": "663fb1bb",
   "metadata": {},
   "source": [
    "---\n",
    "\n",
    "## 3. Exploring Data with Pandas\n",
    "\n",
    "Explore the main properties of the dataset."
   ]
  },
  {
   "cell_type": "code",
   "execution_count": null,
   "id": "9e3fa5fc",
   "metadata": {},
   "outputs": [],
   "source": [
    "# Display the shape; number of rows and columns\n",
    "df.shape"
   ]
  },
  {
   "cell_type": "code",
   "execution_count": null,
   "id": "667cf051",
   "metadata": {},
   "outputs": [],
   "source": [
    "# Show column data types\n",
    "df.dtypes"
   ]
  },
  {
   "cell_type": "code",
   "execution_count": null,
   "id": "41338641",
   "metadata": {},
   "outputs": [],
   "source": [
    "# Show summary statistics for numerical columns\n",
    "df.describe()"
   ]
  },
  {
   "cell_type": "code",
   "execution_count": null,
   "id": "9e474d26",
   "metadata": {},
   "outputs": [],
   "source": [
    "# Preview the first 10 rows\n",
    "df.head(10)"
   ]
  },
  {
   "cell_type": "markdown",
   "id": "bff7a8ce",
   "metadata": {},
   "source": [
    "---\n",
    "\n",
    "## 4. Basic Numpy Operations\n",
    "\n",
    "Understand arrays; perform simple computations."
   ]
  },
  {
   "cell_type": "code",
   "execution_count": null,
   "id": "3a4d355d",
   "metadata": {},
   "outputs": [],
   "source": [
    "import numpy as np\n",
    "\n",
    "# Convert a series to numpy array and calculate mean\n",
    "sepal_lengths = df[\"sepal_length\"].values\n",
    "np.mean(sepal_lengths)"
   ]
  },
  {
   "cell_type": "markdown",
   "id": "37cd83d8",
   "metadata": {},
   "source": [
    "---\n",
    "\n",
    "## 5. Visualizing Data with Matplotlib\n",
    "\n",
    "Start with a simple histogram and scatter plot."
   ]
  },
  {
   "cell_type": "code",
   "execution_count": null,
   "id": "d4e5da64",
   "metadata": {},
   "outputs": [],
   "source": [
    "import matplotlib.pyplot as plt\n",
    "\n",
    "# Histogram of sepal lengths\n",
    "plt.hist(df['sepal_length'], bins=20, color='skyblue')\n",
    "plt.title(\"Distribution of Sepal Lengths\")\n",
    "plt.xlabel(\"Sepal Length (cm)\")\n",
    "plt.ylabel(\"Frequency\")\n",
    "plt.show()"
   ]
  },
  {
   "cell_type": "code",
   "execution_count": null,
   "id": "a78f5125",
   "metadata": {},
   "outputs": [],
   "source": [
    "# Scatter plot of sepal vs. petal length\n",
    "plt.scatter(df['sepal_length'], df['petal_length'], c='green')\n",
    "plt.title(\"Sepal vs. Petal Length\")\n",
    "plt.xlabel(\"Sepal Length\")\n",
    "plt.ylabel(\"Petal Length\")\n",
    "plt.show()"
   ]
  },
  {
   "cell_type": "markdown",
   "id": "0f9c41bc",
   "metadata": {},
   "source": [
    "---\n",
    "\n",
    "## 6. Enhanced Visuals with Seaborn\n",
    "\n",
    "Use seaborn for advanced statistical plots."
   ]
  },
  {
   "cell_type": "code",
   "execution_count": null,
   "id": "c3d78cad",
   "metadata": {},
   "outputs": [],
   "source": [
    "import seaborn as sns\n",
    "\n",
    "# Pairplot for all features, colored by species\n",
    "sns.pairplot(df, hue='species')\n",
    "plt.suptitle(\"Pairwise Feature Relationships\", y=1.02)\n",
    "plt.show()"
   ]
  },
  {
   "cell_type": "code",
   "execution_count": null,
   "id": "110e8733",
   "metadata": {},
   "outputs": [],
   "source": [
    "# Boxplot example: Sepal length by species\n",
    "sns.boxplot(x=\"species\", y=\"sepal_length\", data=df)\n",
    "plt.title(\"Sepal Length Distribution by Species\")\n",
    "plt.show()"
   ]
  },
  {
   "cell_type": "markdown",
   "id": "3ff0de93",
   "metadata": {},
   "source": [
    "---\n",
    "\n",
    "## 7. Practical Exercise\n",
    "\n",
    "**Try these tasks on your own;**\n",
    "\n",
    "- Calculate and print the average petal width for each iris species.\n",
    "- Create a bar chart comparing the mean sepal width of each species.\n",
    "- Find and print how many missing values (if any) are in each column.\n",
    "\n",
    "---\n",
    "\n",
    "## 8. Troubleshooting and Best Practices\n",
    "\n",
    "- If a dataset link fails, check your internet or use a local CSV copy.\n",
    "- Watch for missing values (`NaN`). Use `df.isnull().sum()` to count missing items.\n",
    "- Always check data types before analysis. Use `df.dtypes`.\n",
    "- Reset the notebook kernel if plots don’t show; save work first.\n",
    "\n",
    "---\n",
    "\n",
    "## 9. Industry Insight\n",
    "\n",
    "These exploratory skills are essential in AI research, data engineering, and at tech companies handling real-world datasets. Data visualization helps communicate findings and spot data issues early, supporting reproducible workflows and responsible AI practice.\n",
    "\n",
    "---\n",
    "\n",
    "## 10. Reflection and Assessment Prep\n",
    "\n",
    "- What insights did you learn about the Iris dataset today?\n",
    "- Where in a real company or AI project would you use these tools?\n",
    "- What problems might occur if you skip data exploration?\n",
    "\n",
    "---\n",
    "\n",
    "## 11. Summary and Next Steps\n",
    "\n",
    "Today you got hands-on with Python's core data tools; pandas, numpy, matplotlib, and seaborn. You learned to load, inspect, and visualize open data using industry-standard environments. Next week we will focus on dataset documentation and reporting standards, building on today’s skills to ensure your work is clear, organized, and reusable."
   ]
  }
 ],
 "metadata": {
  "jupytext": {
   "cell_metadata_filter": "-all",
   "main_language": "python",
   "notebook_metadata_filter": "-all"
  }
 },
 "nbformat": 4,
 "nbformat_minor": 5
}
