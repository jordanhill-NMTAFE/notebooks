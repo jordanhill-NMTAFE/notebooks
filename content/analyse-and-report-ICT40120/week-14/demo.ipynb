{
 "cells": [
  {
   "cell_type": "markdown",
   "id": "144f3882",
   "metadata": {},
   "source": [
    "# Week 14 Clustering Lab; Unsupervised Models and Data Challenges\n",
    "\n",
    "## Learning Objectives\n",
    "\n",
    "- Understand unsupervised clustering methods and their importance in real-world AI projects\n",
    "- Apply k-means clustering to real data using pandas and scikit-learn\n",
    "- Identify and address data challenges such as missing values and imbalance\n",
    "- Interpret and discuss findings for practical industry applications\n",
    "\n",
    "---\n",
    "\n",
    "## 1. Lab Setup and Introduction\n",
    "\n",
    "- Import necessary Python libraries; pandas, numpy, matplotlib, seaborn, scikit-learn\n",
    "- Explain that the class will use a classic UCI dataset (the 'Iris' dataset) for an unsupervised clustering exercise"
   ]
  },
  {
   "cell_type": "code",
   "execution_count": null,
   "id": "af2ba9cd",
   "metadata": {},
   "outputs": [],
   "source": [
    "import pandas as pd\n",
    "import numpy as np\n",
    "from sklearn.datasets import load_iris\n",
    "from sklearn.cluster import KMeans\n",
    "import matplotlib.pyplot as plt\n",
    "import seaborn as sns\n",
    "\n",
    "# Load the Iris dataset\n",
    "data = load_iris()\n",
    "df = pd.DataFrame(data.data, columns=data.feature_names)\n",
    "df['species'] = pd.Categorical.from_codes(data.target, data.target_names)\n",
    "df.head()"
   ]
  },
  {
   "cell_type": "markdown",
   "id": "d2cea429",
   "metadata": {},
   "source": [
    "---\n",
    "\n",
    "## 2. Exploration and Preparation\n",
    "\n",
    "- Introduce the concept of 'dirty' or imbalanced real-world data; Not all AI data is clean or well-balanced\n",
    "- Simulate a real-world issue by injecting some missing values into the dataset"
   ]
  },
  {
   "cell_type": "code",
   "execution_count": null,
   "id": "9cb2b238",
   "metadata": {},
   "outputs": [],
   "source": [
    "# Inject missing values randomly\n",
    "np.random.seed(42)\n",
    "missing_rate = 0.1  # 10 percent of values set to NaN\n",
    "mask = np.random.rand(*df[data.feature_names].shape) < missing_rate\n",
    "df.loc[:, data.feature_names] = df[data.feature_names].mask(mask)\n",
    "df.isnull().sum()"
   ]
  },
  {
   "cell_type": "markdown",
   "id": "80641c50",
   "metadata": {},
   "source": [
    "- Discussion question; Why does missing data occur in practice? How does it affect ML workflows?\n",
    "\n",
    "---\n",
    "\n",
    "## 3. Data Cleaning and Imputation\n",
    "\n",
    "- Demonstrate a common industry approach; fill missing values using the average (mean) for each feature"
   ]
  },
  {
   "cell_type": "code",
   "execution_count": null,
   "id": "bcba7f4a",
   "metadata": {},
   "outputs": [],
   "source": [
    "# Fill missing values with column means\n",
    "df_filled = df.copy()\n",
    "for col in data.feature_names:\n",
    "    df_filled[col] = df_filled[col].fillna(df_filled[col].mean())\n",
    "df_filled.isnull().sum()"
   ]
  },
  {
   "cell_type": "markdown",
   "id": "1e91e451",
   "metadata": {},
   "source": [
    "---\n",
    "\n",
    "## 4. Clustering with K-Means\n",
    "\n",
    "- Explain the principle behind k-means clustering and industry relevance in LLM data, anomaly detection, or customer segmentation\n",
    "- Run a k-means clustering experiment with k = 3 (since there are three species in the real dataset)"
   ]
  },
  {
   "cell_type": "code",
   "execution_count": null,
   "id": "3bbd28da",
   "metadata": {},
   "outputs": [],
   "source": [
    "# Run k-means clustering\n",
    "features = data.feature_names\n",
    "kmeans = KMeans(n_clusters=3, random_state=42)\n",
    "df_filled['cluster'] = kmeans.fit_predict(df_filled[features])\n",
    "\n",
    "# Visualize clusters\n",
    "plt.figure(figsize=(8, 6))\n",
    "sns.scatterplot(\n",
    "    x='sepal length (cm)', y='sepal width (cm)',\n",
    "    hue='cluster', palette='Set2', data=df_filled)\n",
    "plt.title('K-Means Clusters (k=3) on Iris Dataset')\n",
    "plt.show()"
   ]
  },
  {
   "cell_type": "markdown",
   "id": "c2094c28",
   "metadata": {},
   "source": [
    "---\n",
    "\n",
    "## 5. Analysis and Discussion of Results\n",
    "\n",
    "- Compare clusters to true species labels (noting clustering is unsupervised, so labels are not used in training)\n",
    "- Calculate the contingency table to see how clusters align with true species"
   ]
  },
  {
   "cell_type": "code",
   "execution_count": null,
   "id": "08640a82",
   "metadata": {},
   "outputs": [],
   "source": [
    "pd.crosstab(df_filled['cluster'], df_filled['species'])"
   ]
  },
  {
   "cell_type": "markdown",
   "id": "d52a153c",
   "metadata": {},
   "source": [
    "- Reflection question; Why might the clusters not correspond perfectly to the species? What real-world implications does this have for AI dataset engineering?\n",
    "\n",
    "---\n",
    "\n",
    "## 6. Real-World Data Challenges; Imbalance and Scaling\n",
    "\n",
    "- Briefly create imbalance by downsampling one class; explain the challenge for unsupervised models"
   ]
  },
  {
   "cell_type": "code",
   "execution_count": null,
   "id": "3c9e4dba",
   "metadata": {},
   "outputs": [],
   "source": [
    "# Make dataset imbalanced by reducing one species\n",
    "df_imbalanced = pd.concat([\n",
    "    df[df.species == 'setosa'],\n",
    "    df[df.species == 'versicolor'].sample(frac=0.5, random_state=42),\n",
    "    df[df.species == 'virginica']\n",
    "])\n",
    "print(df_imbalanced['species'].value_counts())"
   ]
  },
  {
   "cell_type": "markdown",
   "id": "3ead3785",
   "metadata": {},
   "source": [
    "- Rerun the k-means analysis on the imbalanced dataset; discuss effects"
   ]
  },
  {
   "cell_type": "code",
   "execution_count": null,
   "id": "504a13e2",
   "metadata": {},
   "outputs": [],
   "source": [
    "# Impute again\n",
    "for col in data.feature_names:\n",
    "    df_imbalanced[col] = df_imbalanced[col].fillna(df_imbalanced[col].mean())\n",
    "kmeans_imbalanced = KMeans(n_clusters=3, random_state=42)\n",
    "df_imbalanced['cluster'] = kmeans_imbalanced.fit_predict(df_imbalanced[features])\n",
    "pd.crosstab(df_imbalanced['cluster'], df_imbalanced['species'])"
   ]
  },
  {
   "cell_type": "markdown",
   "id": "a2d487d5",
   "metadata": {},
   "source": [
    "- Discussion; In industry, how would you mitigate or flag issues from imbalanced or incomplete data when clustering?\n",
    "\n",
    "---\n",
    "\n",
    "## 7. Wrap-Up; Best Practices and Industry Takeaways\n",
    "\n",
    "- Summarize key lessons; Clean, complete data is rare in industry; Clustering can reveal insights but requires careful interpretation\n",
    "- Highlight links to prior learning (data preprocessing, reporting) and future weeks (scaling to large datasets)\n",
    "- Practical takeaway; Always document data challenges and cleaning steps for reproducibility and auditability\n",
    "\n",
    "---\n",
    "\n",
    "## 8. Reflection and Assessment Preparation\n",
    "\n",
    "- List three real-world scenarios where clustering is used in industry (e.g. customer segmentation, anomaly detection, topic discovery in large text corpora)\n",
    "- Briefly write about one obstacle faced in this lab and suggest a possible industry solution"
   ]
  }
 ],
 "metadata": {
  "jupytext": {
   "cell_metadata_filter": "-all",
   "main_language": "python",
   "notebook_metadata_filter": "-all"
  }
 },
 "nbformat": 4,
 "nbformat_minor": 5
}
