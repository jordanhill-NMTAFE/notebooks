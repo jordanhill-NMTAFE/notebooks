{
 "cells": [
  {
   "cell_type": "markdown",
   "id": "3be51c8c",
   "metadata": {},
   "source": [
    "# Week 6 Workshop; Data Bias and Quality Group Investigation\n",
    "\n",
    "## Learning Objectives\n",
    "- Identify and explain the main dimensions of data quality; timeliness, authority, relevance, completeness, and accuracy  \n",
    "- Detect common types of bias in datasets; selection bias, labeling bias, and sampling bias  \n",
    "- Assess how quality issues and biases impact real AI applications and outcomes  \n",
    "- Practise critical evaluation skills by investigating an authentic open dataset using Python  \n",
    "\n",
    "---\n",
    "\n",
    "## Agenda\n",
    "1. Setup; review goals and expectations for the session  \n",
    "2. Introduction to data quality and typical data biases  \n",
    "3. Guided group activity; investigate an open dataset, identify issues, and discuss impacts  \n",
    "4. Debrief and class discussion; share findings  \n",
    "5. Instructor summary, Q and A, and reflections  \n",
    "\n",
    "---\n",
    "\n",
    "## 1. Setup and Introduction\n",
    "\n",
    "Explain the industry importance of evaluating data quality and bias; \n",
    "- AI systems depend on high-quality, unbiased data  \n",
    "- Bias and quality issues can lead to unfair, inaccurate, or invalid AI decisions  \n",
    "- Real industry roles require these evaluation skills to ensure responsible AI development  \n",
    "Refer to standards from Week 5 (datasheets for datasets, documentation) and ethics from Week 3  \n",
    "\n",
    "---\n",
    "\n",
    "## 2. Concepts; Data Quality and Data Bias\n",
    "\n",
    "### Data Quality Dimensions\n",
    "- Timeliness; is the data up to date?  \n",
    "- Authority; does the source have expertise?  \n",
    "- Relevance; is the data suitable for your application?  \n",
    "- Completeness; are data records and fields filled?  \n",
    "- Accuracy; are data values correct and reliable?  \n",
    "\n",
    "### Types of Data Bias\n",
    "- Selection bias; how data is chosen may exclude key groups  \n",
    "- Sampling bias; how samples are collected can skew results  \n",
    "- Label bias; human or systemic errors in assigning data labels  \n",
    "- Confirmation bias; keeping records that support an assumption  \n",
    "\n",
    "---\n",
    "\n",
    "## 3. Guided Practical Example (Instructor-led)\n",
    "\n",
    "Select a small, real open dataset (for example; UCI Adult Income dataset, or a small subset of LAION-5B metadata).\n",
    "\n",
    "### Overview of Dataset\n",
    "- Display and explain basic dataset info  \n",
    "- Describe intended AI applications  "
   ]
  },
  {
   "cell_type": "code",
   "execution_count": null,
   "id": "6be6763b",
   "metadata": {},
   "outputs": [],
   "source": [
    "import pandas as pd\n",
    "\n",
    "# Example using Adult Income dataset (replace with a chunk of an open image or text AI dataset if preferred)\n",
    "url = \"https://archive.ics.uci.edu/ml/machine-learning-databases/adult/adult.data\"\n",
    "cols = [\"age\", \"workclass\", \"fnlwgt\", \"education\", \"education_num\", \"marital_status\", \n",
    "        \"occupation\", \"relationship\", \"race\", \"sex\", \"capital_gain\", \"capital_loss\", \n",
    "        \"hours_per_week\", \"native_country\", \"income\"]\n",
    "\n",
    "df = pd.read_csv(url, header=None, names=cols, na_values=\" ?\", skipinitialspace=True)\n",
    "df.head(5)"
   ]
  },
  {
   "cell_type": "markdown",
   "id": "e4a2a8b2",
   "metadata": {},
   "source": [
    "---\n",
    "\n",
    "### Demonstrate investigation of a few quality and bias issues"
   ]
  },
  {
   "cell_type": "code",
   "execution_count": null,
   "id": "6bec9586",
   "metadata": {},
   "outputs": [],
   "source": [
    "# Check for missing values (completeness)\n",
    "df.isnull().sum()"
   ]
  },
  {
   "cell_type": "code",
   "execution_count": null,
   "id": "c83776e2",
   "metadata": {},
   "outputs": [],
   "source": [
    "# Check for class imbalance in target variable (bias, relevance)\n",
    "df[\"income\"].value_counts(normalize=True)"
   ]
  },
  {
   "cell_type": "code",
   "execution_count": null,
   "id": "8d378003",
   "metadata": {},
   "outputs": [],
   "source": [
    "# Check for demographic imbalance (potential bias)\n",
    "df[\"sex\"].value_counts(normalize=True)\n",
    "df[\"race\"].value_counts(normalize=True)"
   ]
  },
  {
   "cell_type": "code",
   "execution_count": null,
   "id": "53adf63a",
   "metadata": {},
   "outputs": [],
   "source": [
    "# Optional; visualize bias\n",
    "import matplotlib.pyplot as plt\n",
    "df[\"sex\"].value_counts().plot(kind=\"bar\", title=\"Gender distribution in dataset\")\n",
    "plt.show()"
   ]
  },
  {
   "cell_type": "markdown",
   "id": "9d5b3ab1",
   "metadata": {
    "lines_to_next_cell": 0
   },
   "source": [
    "Explain;\n",
    "- What imbalances were found  \n",
    "- How missing or skewed data can affect AI models trained using this dataset  \n",
    "\n",
    "---\n",
    "\n",
    "## 4. Group Investigation Task\n",
    "\n",
    "Split into small groups (2-4 people); each group gets a dataset sample (same or different, e.g., Adult Income, subset of COCO metadata).\n",
    "\n",
    "**Each group will**;\n",
    "- Review dataset documentation and features  \n",
    "- Use Python (pandas) to check for missing data, imbalance, or other quality issues  \n",
    "- Identify at least one potential source of bias  \n",
    "- Discuss how these issues might impact an AI system built using this data  \n",
    "\n",
    "**Suggested steps**;\n",
    "1. Load your data sample and inspect the first few rows  \n",
    "2. Check for missing or obviously inaccurate values  \n",
    "3. Check target/class distributions (imbalances)  \n",
    "4. Check demographic or feature breakdowns  \n",
    "5. Write a short note; what quality/bias issues did you find? How could these affect an AI application?  \n",
    "\n",
    "---\n",
    "\n",
    "### Practical Coding Example (to guide student groups)"
   ]
  },
  {
   "cell_type": "code",
   "execution_count": null,
   "id": "d374e0e4",
   "metadata": {},
   "outputs": [],
   "source": [
    "# Replace with dataset sample given to your group\n",
    "df = pd.read_csv(\"group_dataset_sample.csv\")\n",
    "print(df.info())\n",
    "print(df.head())\n",
    "print(df.isnull().sum())\n",
    "\n",
    "# Example: Explore a protected attribute (like 'sex', 'race', 'category')\n",
    "print(df[\"sex\"].value_counts())\n",
    "print(df[\"income\"].value_counts())"
   ]
  },
  {
   "cell_type": "markdown",
   "id": "d6f0c2db",
   "metadata": {},
   "source": [
    "---\n",
    "\n",
    "## 5. Class Debrief and Reflection\n",
    "\n",
    "Each group;\n",
    "- Shares the most significant data quality or bias issue they found  \n",
    "- Suggests at least one way to address or mitigate the issue (e.g., resampling, imputation, documentation improvement)  \n",
    "\n",
    "Class discussion prompts;\n",
    "- How could these issues affect a real-world AI system, such as a credit scoring or image recognition tool?  \n",
    "- What steps should an AI professional take to document and manage these risks?  \n",
    "\n",
    "---\n",
    "\n",
    "## 6. Instructor Summary and Wrap-up\n",
    "\n",
    "- Data quality and bias assessment is essential for reliable, fair AI outcomes  \n",
    "- These skills are required in all major AI and data industry roles  \n",
    "- Next week will focus on cleaning and preprocessing data to directly address some of the issues you found today  \n",
    "- Review your group's notes and write down; What is one question you still have about bias or data quality?\n",
    "\n",
    "---\n",
    "\n",
    "## Reflection/Assessment Questions\n",
    "\n",
    "1. List two key dimensions of data quality and explain why they matter in AI  \n",
    "2. Describe at least one type of data bias found in your group investigation  \n",
    "3. Give an example of how a bias or quality issue might impact an AI application  \n",
    "4. Suggest one step to remediate a data quality or bias issue in the dataset you explored  \n",
    "\n",
    "---"
   ]
  }
 ],
 "metadata": {
  "jupytext": {
   "cell_metadata_filter": "-all",
   "main_language": "python",
   "notebook_metadata_filter": "-all"
  }
 },
 "nbformat": 4,
 "nbformat_minor": 5
}
