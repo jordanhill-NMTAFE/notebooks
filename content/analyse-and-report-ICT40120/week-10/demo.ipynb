{
 "cells": [
  {
   "cell_type": "markdown",
   "id": "9d506465",
   "metadata": {},
   "source": [
    "# Week 10 Lab Walkthrough  \n",
    "## Exploratory Data Analysis (EDA) on a UCI ML Dataset  \n",
    "**Learning Objectives**\n",
    "- Gain hands-on experience with EDA, using Jupyter and industry-standard Python tools  \n",
    "- Learn to load, explore, and visualize a public dataset; identify trends, outliers, and key findings  \n",
    "- Prepare and present EDA results in a structured, industry-relevant format  \n",
    "\n",
    "---\n",
    "\n",
    "## 1. Introduction and Setup  \n",
    "\n",
    "- Brief overview of EDA and its relevance in AI/data engineering roles;  \n",
    "- Outline connections between EDA and workplace tools/standards (e.g. Python, pandas, reproducibility);  \n",
    "- Highlight assessment links and importance for industry compliance and project workflow."
   ]
  },
  {
   "cell_type": "code",
   "execution_count": null,
   "id": "8f147d93",
   "metadata": {},
   "outputs": [],
   "source": [
    "# Cell: Lab Environment Setup\n",
    "import pandas as pd\n",
    "import numpy as np\n",
    "import matplotlib.pyplot as plt\n",
    "import seaborn as sns\n",
    "\n",
    "# Set up basic plotting style\n",
    "sns.set(style='whitegrid')"
   ]
  },
  {
   "cell_type": "markdown",
   "id": "e537f769",
   "metadata": {},
   "source": [
    "---\n",
    "\n",
    "## 2. Load Dataset  \n",
    "\n",
    "- Select a real-world dataset from the UCI Machine Learning Repository;  \n",
    "- Demonstrate data import, preview, and documentation review;  \n",
    "- Discuss open data best practices and versioning (from previous weeks)."
   ]
  },
  {
   "cell_type": "code",
   "execution_count": null,
   "id": "99d8f211",
   "metadata": {},
   "outputs": [],
   "source": [
    "# Cell: Dataset Loading\n",
    "# Example: UCI's 'Wine Quality' dataset (red wine), commonly used in EDA demos\n",
    "url = \"https://archive.ics.uci.edu/ml/machine-learning-databases/wine-quality/winequality-red.csv\"\n",
    "df = pd.read_csv(url, sep=';')\n",
    "\n",
    "# Preview rows and structure\n",
    "df.head()"
   ]
  },
  {
   "cell_type": "markdown",
   "id": "5e241c2d",
   "metadata": {},
   "source": [
    "---\n",
    "\n",
    "## 3. Initial Data Exploration  \n",
    "\n",
    "- Summarize key dataset features; use head, info, describe;  \n",
    "- Discuss data types, non-null counts, look for initial anomalies."
   ]
  },
  {
   "cell_type": "code",
   "execution_count": null,
   "id": "1b3d6aaf",
   "metadata": {},
   "outputs": [],
   "source": [
    "# Cell: Dataset Summary\n",
    "df.info()\n",
    "df.describe()\n",
    "df.isnull().sum()  # Check for missing values"
   ]
  },
  {
   "cell_type": "markdown",
   "id": "3377327a",
   "metadata": {},
   "source": [
    "---\n",
    "\n",
    "## 4. Visualising Distributions and Key Features  \n",
    "\n",
    "- Plot distributions of selected variables;  \n",
    "- Use boxplots, histograms to identify outliers or unusual trends;  \n",
    "- Reference workplace reasons for visualization (communication, QA, analysis, reproducibility)."
   ]
  },
  {
   "cell_type": "code",
   "execution_count": null,
   "id": "aefbdad7",
   "metadata": {},
   "outputs": [],
   "source": [
    "# Cell: Distribution Visualization\n",
    "fig, axs = plt.subplots(1, 2, figsize=(12, 4))\n",
    "sns.histplot(df['alcohol'], bins=20, kde=True, ax=axs[0])\n",
    "axs[0].set_title('Alcohol Content Distribution')\n",
    "sns.boxplot(x=df['quality'], y=df['alcohol'], ax=axs[1])\n",
    "axs[1].set_title('Alcohol by Wine Quality')\n",
    "plt.tight_layout()\n",
    "plt.show()"
   ]
  },
  {
   "cell_type": "markdown",
   "id": "510f46d0",
   "metadata": {},
   "source": [
    "---\n",
    "\n",
    "## 5. Identifying Trends, Outliers, and Correlations  \n",
    "\n",
    "- Use scatterplots/correlation matrices to examine feature relationships;  \n",
    "- Document findings with markdown commentary, relating to responsible data analysis in AI."
   ]
  },
  {
   "cell_type": "code",
   "execution_count": null,
   "id": "ebe5b5dc",
   "metadata": {},
   "outputs": [],
   "source": [
    "# Cell: Correlation Analysis\n",
    "corr_matrix = df.corr()\n",
    "plt.figure(figsize=(10, 8))\n",
    "sns.heatmap(corr_matrix, annot=True, fmt=\".2f\", cmap='coolwarm', square=True)\n",
    "plt.title('Correlation Matrix')\n",
    "plt.show()\n",
    "\n",
    "# Cell: Scatterplot of Two Features\n",
    "sns.scatterplot(data=df, x='alcohol', y='quality')\n",
    "plt.title('Alcohol vs. Quality')\n",
    "plt.show()"
   ]
  },
  {
   "cell_type": "markdown",
   "id": "2e335341",
   "metadata": {},
   "source": [
    "---\n",
    "\n",
    "## 6. Presenting EDA Findings (Industry Practice)  \n",
    "\n",
    "- Summarize main trends, anomalies, and potential data quality issues;  \n",
    "- Structure findings as you would for a research report or industry documentation.\n",
    "\n",
    "**Example Markdown Cell:**  \n",
    "- Alcohol content is positively correlated with wine quality;  \n",
    "- Outliers detected in sulphates and residual sugar (see boxplots);  \n",
    "- Dataset is clean, with no missing values, but some variables are skewed;  \n",
    "- Further exploration could involve feature engineering or ML modeling steps.\n",
    "\n",
    "---\n",
    "\n",
    "## 7. Practical Exercises  \n",
    "\n",
    "- Students select another feature or pair of features to explore;  \n",
    "- Create their own visualizations (histogram, boxplot, scatterplot);  \n",
    "- Reflect on implications for AI projects (e.g. model bias, interpretability).\n",
    "\n",
    "**Prompt:**  \n",
    "- Choose two features, visualize their relationship, and describe any patterns or outliers you observe;  \n",
    "- Consider and note: How might this finding influence a machine learning workflow?\n",
    "\n",
    "---\n",
    "\n",
    "## 8. Troubleshooting and Best Practices  \n",
    "\n",
    "- Discuss common issues (missing data, poor labels, unbalanced classes);  \n",
    "- Point out best practices for EDA in industry: clear documentation, data versioning, reproducibility with Jupyter;  \n",
    "- Encourage students to write clear markdown explanations alongside each code block.\n",
    "\n",
    "---\n",
    "\n",
    "## 9. Reflection and Prep for Assessment  \n",
    "\n",
    "- Remind students this lab forms the process/method for the Week 14 EDA assessment on another UCI dataset;  \n",
    "- Suggest further reading on dataset documentation standards and open data ethics, as per course/industry standards;  \n",
    "- Reflection prompt: What was most surprising about this dataset, and how would you communicate key findings to a non-technical audience?\n",
    "\n",
    "---\n",
    "\n",
    "## 10. Summary and Next Steps  \n",
    "\n",
    "- Recap: Industry focus on reproducible, well-documented, and ethically evaluated data analysis;  \n",
    "- Next week: Turning EDA insights into structured reports and data science deliverables;  \n",
    "- Highlight importance of industry tools (pandas, numpy, matplotlib, seaborn), open data practices, and communication skills."
   ]
  }
 ],
 "metadata": {
  "jupytext": {
   "cell_metadata_filter": "-all",
   "main_language": "python",
   "notebook_metadata_filter": "-all"
  }
 },
 "nbformat": 4,
 "nbformat_minor": 5
}
