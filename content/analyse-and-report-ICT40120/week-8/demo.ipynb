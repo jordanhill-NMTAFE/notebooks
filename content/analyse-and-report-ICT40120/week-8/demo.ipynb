{
 "cells": [
  {
   "cell_type": "markdown",
   "id": "2bfe92d9",
   "metadata": {},
   "source": [
    "# Week 8 Demo. Creating Reproducible Data Pipelines\n",
    "\n",
    "## Learning Objectives\n",
    "- Build simple reproducible data pipelines using open data.\n",
    "- Practice data and code versioning with tools used in industry.\n",
    "- Document all steps clearly in markdown following best practice.\n",
    "- Understand workplace expectations for storing and securing data workflows.\n",
    "\n",
    "---\n",
    "\n",
    "## Prerequisites\n",
    "- Basic use of pandas, numpy, and Jupyter from Weeks 4 and 7.\n",
    "- Awareness of open dataset sources and documentation (Weeks 2, 5).\n",
    "- Data cleaning skills from Week 7.\n",
    "\n",
    "---\n",
    "\n",
    "## 1. Introduction to Data Versioning and Reproducibility\n",
    "\n",
    "A reproducible data pipeline means anyone (including you, in the future) can run your steps and get the same result.  \n",
    "Versioning helps track changes to your code and data. This is essential in AI and data science teams to avoid data leaks, loss of work, and ensure trust in results.\n",
    "\n",
    "---\n",
    "\n",
    "## 2. Creating a Simple Data Pipeline (Hands-On)\n",
    "\n",
    "We will use the Iris dataset (UCI ML Repository) for this demonstration.\n",
    "\n",
    "### Step 1. Load and Inspect the Data"
   ]
  },
  {
   "cell_type": "code",
   "execution_count": null,
   "id": "6b49d368",
   "metadata": {},
   "outputs": [],
   "source": [
    "import pandas as pd\n",
    "\n",
    "url = \"https://archive.ics.uci.edu/ml/machine-learning-databases/iris/iris.data\"\n",
    "cols = [\"sepal_length\", \"sepal_width\", \"petal_length\", \"petal_width\", \"class\"]\n",
    "df = pd.read_csv(url, names=cols)\n",
    "\n",
    "df.head()"
   ]
  },
  {
   "cell_type": "markdown",
   "id": "f8fdfdca",
   "metadata": {},
   "source": [
    "---\n",
    "\n",
    "### Step 2. Basic Data Cleaning\n",
    "\n",
    "- Remove duplicate rows.\n",
    "- Handle any missing values."
   ]
  },
  {
   "cell_type": "code",
   "execution_count": null,
   "id": "37219b9f",
   "metadata": {},
   "outputs": [],
   "source": [
    "df = df.drop_duplicates()\n",
    "df = df.dropna()\n",
    "df.info()"
   ]
  },
  {
   "cell_type": "markdown",
   "id": "37b5e2db",
   "metadata": {},
   "source": [
    "---\n",
    "\n",
    "### Step 3. Save the Cleaned Data\n",
    "\n",
    "We should save each new dataset version with a clear name and date."
   ]
  },
  {
   "cell_type": "code",
   "execution_count": null,
   "id": "536c43df",
   "metadata": {},
   "outputs": [],
   "source": [
    "import datetime\n",
    "\n",
    "today = datetime.date.today().strftime('%Y%m%d')\n",
    "filename = f\"iris_cleaned_{today}.csv\"\n",
    "df.to_csv(filename, index=False)"
   ]
  },
  {
   "cell_type": "markdown",
   "id": "474bceda",
   "metadata": {
    "lines_to_next_cell": 0
   },
   "source": [
    "---\n",
    "\n",
    "## 3. Versioning Your Code and Data\n",
    "\n",
    "In industry, we use tools to track changes and enable collaboration.\n",
    "\n",
    "- **Option 1. Git**; For versioning code and small datasets.\n",
    "- **Option 2. DVC (Data Version Control)**; For larger datasets and pipelines.\n",
    "\n",
    "For this demo, we will use Git for basic versioning.\n",
    "\n",
    "---\n",
    "\n",
    "### Step 4. Initialize a Git Repository (Terminal Example)\n",
    "\n",
    "- Go to your project folder and run:"
   ]
  },
  {
   "cell_type": "code",
   "execution_count": null,
   "id": "0f392b24",
   "metadata": {
    "lines_to_next_cell": 0
   },
   "outputs": [],
   "source": [
    "%%bash\n",
    "git init\n",
    "git add demo_notebook.ipynb iris_cleaned_YYYYMMDD.csv\n",
    "git commit -m \"Initial cleaned dataset and pipeline notebook\""
   ]
  },
  {
   "cell_type": "markdown",
   "id": "072d4973",
   "metadata": {},
   "source": [
    "- Each change should have a short, clear message.\n",
    "\n",
    "*(Replace YYYYMMDD with today's date.)*\n",
    "\n",
    "---\n",
    "\n",
    "#### Discussion\n",
    "\n",
    "- What is the purpose of commit messages?\n",
    "- How would a team use branches for different experiments?\n",
    "\n",
    "---\n",
    "\n",
    "### Step 5. Document Your Process in Markdown\n",
    "\n",
    "Best practices in industry include:\n",
    "\n",
    "- Write clear markdown for each code and analysis step.\n",
    "- List inputs, outputs, versions, and data sources.\n",
    "- Always describe problems or decisions (e.g., why certain rows were removed).\n",
    "\n",
    "#### Example:"
   ]
  },
  {
   "cell_type": "code",
   "execution_count": null,
   "id": "3c5a6e0b",
   "metadata": {},
   "outputs": [],
   "source": [
    "%%markdown\n",
    "## Data Cleaning\n",
    "- Source: UCI ML Iris dataset (link above)\n",
    "- Removed duplicates (none found), dropped missing values (none found).\n",
    "- Saved versioned file: iris_cleaned_YYYYMMDD.csv\n",
    "- Code and outputs in this notebook, versioned with Git."
   ]
  },
  {
   "cell_type": "markdown",
   "id": "d96f5036",
   "metadata": {},
   "source": [
    "---\n",
    "\n",
    "### Step 6. Store Your Work Securely\n",
    "\n",
    "Workplaces require data to be stored in approved locations.\n",
    "\n",
    "- Use institutional storage or secure cloud; never store confidential or large datasets in personal accounts.\n",
    "- Understand and follow your organization’s data policies.\n",
    "\n",
    "#### Exercise\n",
    "\n",
    "Write a markdown section explaining where and how your files would be stored and who has access in a real company.\n",
    "\n",
    "---\n",
    "\n",
    "## 4. Reflection and Best Practices\n",
    "\n",
    "- How does versioning code and data help teams work together?\n",
    "- What could go wrong if files are not versioned or well documented?\n",
    "- Why does the industry require secure, reproducible pipelines especially for AI data?\n",
    "\n",
    "---\n",
    "\n",
    "## 5. Next Steps\n",
    "\n",
    "- Practice using DVC on a larger dataset in the next session.\n",
    "- Review this notebook; make sure each code step is matched with a markdown description.\n",
    "- Commit any changes as you go.\n",
    "\n",
    "---\n",
    "\n",
    "## Summary\n",
    "\n",
    "- You created a basic reproducible data pipeline.\n",
    "- You learned data and code versioning using Git.\n",
    "- You documented your work as required in modern AI and data engineering teams.\n",
    "- You discussed secure data storage and compliance.\n",
    "\n",
    "---"
   ]
  }
 ],
 "metadata": {
  "jupytext": {
   "cell_metadata_filter": "-all",
   "main_language": "python",
   "notebook_metadata_filter": "-all"
  }
 },
 "nbformat": 4,
 "nbformat_minor": 5
}
